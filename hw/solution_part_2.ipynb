{
 "cells": [
  {
   "cell_type": "markdown",
   "metadata": {
    "id": "hMb2AcUWIBcH"
   },
   "source": [
    "## Выполнили: Жерноклеев Дмитрий Дамирович, Индык Илья Андреевич, Реентович Александр Анатольевич"
   ]
  },
  {
   "cell_type": "markdown",
   "metadata": {
    "id": "2U2-uEVQj757"
   },
   "source": [
    "# Домашнее задание\n",
    "## Harry Potter and the Action Prediction Challenge from Natural Language\n",
    "\n",
    "*deadline*: 14 ноября 2022, 23:59\n",
    "\n",
    "В этом домашнем задании вы будете работать с корпусом Harry Potter and the Action Prediction Challenge. Корпус собран из фанфиков о Гарри Поттере и состоит из двух частей: 1) сырые тексты, 2) фрагменты текстов, описывающих ситуацию, в которой произнесено заклинание.\n",
    "\n",
    "Корпус описан в статье: https://arxiv.org/pdf/1905.11037.pdf\n",
    "\n",
    "David Vilares and Carlos Gómez-Rodríguez. Harry Potter and the Action Prediction Challenge from Natural Language. 2019 Annual Conference of the North American Chapter of the Association for Computational Linguistics. To appear.\n",
    "\n",
    "Код для сбора корпуса находится в репозитории: https://github.com/aghie/hpac . Корпус можно скачать по инструкции из этого репозитория, но для экономии времени авторы задания уже скачали и подготовили данные к работе. \n",
    "\n",
    "Ссылки на собранный корпус: \n",
    "* Сырые тексты:  https://www.dropbox.com/s/23xet9kvbqna1qs/hpac_raw.zip?dl=0\n",
    "* Токенизированные тексты в нижнем регистре: https://www.dropbox.com/s/gwfgmomdbetvdye/hpac_lower_tokenized.zip?dl=0\n",
    "* train-test-dev: https://www.dropbox.com/s/3vdz0mouvex8abd/hpac_splits.zip?dl=0\n",
    "\n",
    "Части 1, 2 задания должны быть выполнены на полных текстах (сырых или предобработанных -- на ваше усмотрение), Часть 3 – на разбиение на тестовое, отладочное и обучающее множества. Тестовое множество должно быть использовано исключительно для тестирования моделей, обучающее и отладочное – для выбора модели и параметров. \n",
    "\n",
    "В статье и репозитории вы найдете идеи, которые помогут вам выполнить домашнее задание. Их стоит воспринимать как руководство к действию, и не стоит их копировать и переиспользовать. Обученные модели использовать не нужно, код для их обучения можно использовать как подсказку. \n",
    "\n",
    "## ПРАВИЛА\n",
    "1. Домашнее задание выполняется в группе до 3-х человек.\n",
    "2. Домашнее задание оформляется в виде отчета либо в .pdf файле, либо ipython-тетрадке. \n",
    "3. Отчет должен содержать: нумерацию заданий и пунктов, которые вы выполнили, код решения, и понятное пошаговое описание того, что вы сделали. Отчет должен быть написан в академическом стиле, без излишнего использования сленга и с соблюдением норм русского языка.\n",
    "4. Не стоит копировать фрагменты лекций, статей и Википедии в ваш отчет.\n",
    "5. Отчеты, состоящие исключительно из кода, не будут проверены и будут автоматически оценены нулевой оценкой.\n",
    "6. Плагиат и любое недобросоветсное цитирование приводит к обнуление оценки. "
   ]
  },
  {
   "cell_type": "code",
   "execution_count": 1,
   "metadata": {
    "colab": {
     "base_uri": "https://localhost:8080/"
    },
    "id": "9sMEYl5fp-h9",
    "outputId": "8a447267-1cb1-43e1-b9b0-e45548ec367e"
   },
   "outputs": [
    {
     "name": "stdout",
     "output_type": "stream",
     "text": [
      "\u001b[K     |████████████████████████████████| 24.1 MB 1.4 MB/s \n",
      "\u001b[?25h"
     ]
    }
   ],
   "source": [
    "!pip install gensim --upgrade -q  # апгрейд пакета генсим"
   ]
  },
  {
   "cell_type": "code",
   "execution_count": 2,
   "metadata": {
    "colab": {
     "base_uri": "https://localhost:8080/"
    },
    "id": "2r-ao_8whN1i",
    "outputId": "45e7b9f0-92a8-440d-9100-eaff423b2192"
   },
   "outputs": [
    {
     "name": "stderr",
     "output_type": "stream",
     "text": [
      "[nltk_data] Downloading package punkt to /root/nltk_data...\n",
      "[nltk_data]   Unzipping tokenizers/punkt.zip.\n"
     ]
    },
    {
     "data": {
      "text/plain": [
       "True"
      ]
     },
     "execution_count": 2,
     "metadata": {},
     "output_type": "execute_result"
    }
   ],
   "source": [
    "import pandas as pd  # импортируем необходимые для выполнения задания модули\n",
    "import nltk\n",
    "from nltk.corpus import wordnet as wn\n",
    "from nltk.corpus import stopwords\n",
    "from nltk.tokenize import word_tokenize\n",
    "from string import punctuation\n",
    "import os\n",
    "import numpy as np\n",
    "from sklearn.feature_extraction.text import CountVectorizer\n",
    "import re\n",
    "from tqdm import tqdm\n",
    "import urllib.request\n",
    "import gensim\n",
    "from gensim.models import word2vec\n",
    "from gensim.test.utils import datapath\n",
    "from gensim import utils\n",
    "from google.colab import files\n",
    "from sklearn.manifold import TSNE\n",
    "import plotly.express as px\n",
    "\n",
    "nltk.download('punkt')"
   ]
  },
  {
   "cell_type": "code",
   "execution_count": null,
   "metadata": {
    "id": "4-THoxJzj76D"
   },
   "outputs": [],
   "source": [
    "!wget https://www.dropbox.com/s/12toaj67fjrguhd/hpac_raw.zip -q\n",
    "!wget https://www.dropbox.com/s/1ndto6dce5wg7j2/hpac_lower_tokenized.zip -q\n",
    "!wget https://www.dropbox.com/s/ftinwwjfyydevth/hpac_splits.zip -q"
   ]
  },
  {
   "cell_type": "markdown",
   "metadata": {
    "id": "CXSxCY_bj76E"
   },
   "source": [
    "### Данные\n",
    "Сырые тексты "
   ]
  },
  {
   "cell_type": "markdown",
   "metadata": {
    "id": "iTXvRVVhBanZ"
   },
   "source": [
    "Подгрузим наши тексты"
   ]
  },
  {
   "cell_type": "code",
   "execution_count": null,
   "metadata": {
    "id": "WiEIWoIqj76F",
    "jupyter": {
     "outputs_hidden": true
    }
   },
   "outputs": [],
   "source": [
    "!unzip -q hpac_lower_tokenized\n",
    "!unzip -q hpac_splits -d /content/hpac_splits\n",
    "!unzip -q hpac_raw -d /content/hpac_raw"
   ]
  },
  {
   "cell_type": "code",
   "execution_count": null,
   "metadata": {
    "colab": {
     "base_uri": "https://localhost:8080/"
    },
    "id": "8k8YU-Mkj76F",
    "outputId": "803872a4-7f20-4ace-affe-499c0667f438"
   },
   "outputs": [
    {
     "name": "stdout",
     "output_type": "stream",
     "text": [
      "36225\n"
     ]
    }
   ],
   "source": [
    "!ls hpac_source | wc -l"
   ]
  },
  {
   "cell_type": "code",
   "execution_count": null,
   "metadata": {
    "colab": {
     "base_uri": "https://localhost:8080/"
    },
    "id": "LxQT33XCsOUK",
    "outputId": "9f5bb140-84fe-4725-a47a-aa5be5745f1a"
   },
   "outputs": [
    {
     "name": "stdout",
     "output_type": "stream",
     "text": [
      "2\n"
     ]
    }
   ],
   "source": [
    "!ls hpac_splits | wc -l"
   ]
  },
  {
   "cell_type": "code",
   "execution_count": null,
   "metadata": {
    "colab": {
     "base_uri": "https://localhost:8080/"
    },
    "id": "oVnsOCymsR7S",
    "outputId": "fa71a618-c3c1-4ee5-e501-57133771b362"
   },
   "outputs": [
    {
     "name": "stdout",
     "output_type": "stream",
     "text": [
      "1\n"
     ]
    }
   ],
   "source": [
    "!ls hpac_raw | wc -l"
   ]
  },
  {
   "cell_type": "markdown",
   "metadata": {
    "id": "UaEQRjAAj76G"
   },
   "source": [
    "train, test, dev файлы"
   ]
  },
  {
   "cell_type": "code",
   "execution_count": null,
   "metadata": {
    "id": "r8Ye7n9Lj76H"
   },
   "outputs": [],
   "source": [
    "df_train = pd.read_csv('hpac_splits/hpac_corpus/hpac_training_128.tsv', sep='\\t', header=None)\n",
    "df_test = pd.read_csv('hpac_splits/hpac_corpus/hpac_test_128.tsv', sep='\\t', header=None)\n",
    "df_dev = pd.read_csv('hpac_splits/hpac_corpus/hpac_dev_128.tsv', sep='\\t', header=None)"
   ]
  },
  {
   "cell_type": "code",
   "execution_count": null,
   "metadata": {
    "colab": {
     "base_uri": "https://localhost:8080/",
     "height": 206
    },
    "id": "SRUqDkdkj76I",
    "outputId": "5e82f3e5-632e-4d2e-9242-27ceefcfe73c"
   },
   "outputs": [
    {
     "data": {
      "text/html": [
       "\n",
       "  <div id=\"df-83e7c897-67fb-4e3a-a191-805fb272c725\">\n",
       "    <div class=\"colab-df-container\">\n",
       "      <div>\n",
       "<style scoped>\n",
       "    .dataframe tbody tr th:only-of-type {\n",
       "        vertical-align: middle;\n",
       "    }\n",
       "\n",
       "    .dataframe tbody tr th {\n",
       "        vertical-align: top;\n",
       "    }\n",
       "\n",
       "    .dataframe thead th {\n",
       "        text-align: right;\n",
       "    }\n",
       "</style>\n",
       "<table border=\"1\" class=\"dataframe\">\n",
       "  <thead>\n",
       "    <tr style=\"text-align: right;\">\n",
       "      <th></th>\n",
       "      <th>0</th>\n",
       "      <th>1</th>\n",
       "      <th>2</th>\n",
       "    </tr>\n",
       "  </thead>\n",
       "  <tbody>\n",
       "    <tr>\n",
       "      <th>0</th>\n",
       "      <td>7642954.0.676</td>\n",
       "      <td>RIDDIKULUS</td>\n",
       "      <td>were staring at her . she was up next to face ...</td>\n",
       "    </tr>\n",
       "    <tr>\n",
       "      <th>1</th>\n",
       "      <td>10443333.0.5753</td>\n",
       "      <td>RIDDIKULUS</td>\n",
       "      <td>that whole time . her first reaction , for whi...</td>\n",
       "    </tr>\n",
       "    <tr>\n",
       "      <th>2</th>\n",
       "      <td>4703706.0.8690</td>\n",
       "      <td>STUPEFY</td>\n",
       "      <td>we watched his inglorious withdrawal together ...</td>\n",
       "    </tr>\n",
       "    <tr>\n",
       "      <th>3</th>\n",
       "      <td>4593427.0.1815</td>\n",
       "      <td>ACCIO</td>\n",
       "      <td>my wand , `` incendio . '' this wretched chill...</td>\n",
       "    </tr>\n",
       "    <tr>\n",
       "      <th>4</th>\n",
       "      <td>4278446.0.2692</td>\n",
       "      <td>EXPELLIARMUS</td>\n",
       "      <td>already compared ours , they 're the same ever...</td>\n",
       "    </tr>\n",
       "  </tbody>\n",
       "</table>\n",
       "</div>\n",
       "      <button class=\"colab-df-convert\" onclick=\"convertToInteractive('df-83e7c897-67fb-4e3a-a191-805fb272c725')\"\n",
       "              title=\"Convert this dataframe to an interactive table.\"\n",
       "              style=\"display:none;\">\n",
       "        \n",
       "  <svg xmlns=\"http://www.w3.org/2000/svg\" height=\"24px\"viewBox=\"0 0 24 24\"\n",
       "       width=\"24px\">\n",
       "    <path d=\"M0 0h24v24H0V0z\" fill=\"none\"/>\n",
       "    <path d=\"M18.56 5.44l.94 2.06.94-2.06 2.06-.94-2.06-.94-.94-2.06-.94 2.06-2.06.94zm-11 1L8.5 8.5l.94-2.06 2.06-.94-2.06-.94L8.5 2.5l-.94 2.06-2.06.94zm10 10l.94 2.06.94-2.06 2.06-.94-2.06-.94-.94-2.06-.94 2.06-2.06.94z\"/><path d=\"M17.41 7.96l-1.37-1.37c-.4-.4-.92-.59-1.43-.59-.52 0-1.04.2-1.43.59L10.3 9.45l-7.72 7.72c-.78.78-.78 2.05 0 2.83L4 21.41c.39.39.9.59 1.41.59.51 0 1.02-.2 1.41-.59l7.78-7.78 2.81-2.81c.8-.78.8-2.07 0-2.86zM5.41 20L4 18.59l7.72-7.72 1.47 1.35L5.41 20z\"/>\n",
       "  </svg>\n",
       "      </button>\n",
       "      \n",
       "  <style>\n",
       "    .colab-df-container {\n",
       "      display:flex;\n",
       "      flex-wrap:wrap;\n",
       "      gap: 12px;\n",
       "    }\n",
       "\n",
       "    .colab-df-convert {\n",
       "      background-color: #E8F0FE;\n",
       "      border: none;\n",
       "      border-radius: 50%;\n",
       "      cursor: pointer;\n",
       "      display: none;\n",
       "      fill: #1967D2;\n",
       "      height: 32px;\n",
       "      padding: 0 0 0 0;\n",
       "      width: 32px;\n",
       "    }\n",
       "\n",
       "    .colab-df-convert:hover {\n",
       "      background-color: #E2EBFA;\n",
       "      box-shadow: 0px 1px 2px rgba(60, 64, 67, 0.3), 0px 1px 3px 1px rgba(60, 64, 67, 0.15);\n",
       "      fill: #174EA6;\n",
       "    }\n",
       "\n",
       "    [theme=dark] .colab-df-convert {\n",
       "      background-color: #3B4455;\n",
       "      fill: #D2E3FC;\n",
       "    }\n",
       "\n",
       "    [theme=dark] .colab-df-convert:hover {\n",
       "      background-color: #434B5C;\n",
       "      box-shadow: 0px 1px 3px 1px rgba(0, 0, 0, 0.15);\n",
       "      filter: drop-shadow(0px 1px 2px rgba(0, 0, 0, 0.3));\n",
       "      fill: #FFFFFF;\n",
       "    }\n",
       "  </style>\n",
       "\n",
       "      <script>\n",
       "        const buttonEl =\n",
       "          document.querySelector('#df-83e7c897-67fb-4e3a-a191-805fb272c725 button.colab-df-convert');\n",
       "        buttonEl.style.display =\n",
       "          google.colab.kernel.accessAllowed ? 'block' : 'none';\n",
       "\n",
       "        async function convertToInteractive(key) {\n",
       "          const element = document.querySelector('#df-83e7c897-67fb-4e3a-a191-805fb272c725');\n",
       "          const dataTable =\n",
       "            await google.colab.kernel.invokeFunction('convertToInteractive',\n",
       "                                                     [key], {});\n",
       "          if (!dataTable) return;\n",
       "\n",
       "          const docLinkHtml = 'Like what you see? Visit the ' +\n",
       "            '<a target=\"_blank\" href=https://colab.research.google.com/notebooks/data_table.ipynb>data table notebook</a>'\n",
       "            + ' to learn more about interactive tables.';\n",
       "          element.innerHTML = '';\n",
       "          dataTable['output_type'] = 'display_data';\n",
       "          await google.colab.output.renderOutput(dataTable, element);\n",
       "          const docLink = document.createElement('div');\n",
       "          docLink.innerHTML = docLinkHtml;\n",
       "          element.appendChild(docLink);\n",
       "        }\n",
       "      </script>\n",
       "    </div>\n",
       "  </div>\n",
       "  "
      ],
      "text/plain": [
       "                 0             1  \\\n",
       "0    7642954.0.676    RIDDIKULUS   \n",
       "1  10443333.0.5753    RIDDIKULUS   \n",
       "2   4703706.0.8690       STUPEFY   \n",
       "3   4593427.0.1815         ACCIO   \n",
       "4   4278446.0.2692  EXPELLIARMUS   \n",
       "\n",
       "                                                   2  \n",
       "0  were staring at her . she was up next to face ...  \n",
       "1  that whole time . her first reaction , for whi...  \n",
       "2  we watched his inglorious withdrawal together ...  \n",
       "3  my wand , `` incendio . '' this wretched chill...  \n",
       "4  already compared ours , they 're the same ever...  "
      ]
     },
     "execution_count": 9,
     "metadata": {},
     "output_type": "execute_result"
    }
   ],
   "source": [
    "df_train.head()"
   ]
  },
  {
   "cell_type": "code",
   "execution_count": null,
   "metadata": {
    "colab": {
     "base_uri": "https://localhost:8080/"
    },
    "id": "Fl8UPQ9_j76I",
    "outputId": "5c68cbff-86c6-4daa-a2fe-4664a2e1b520"
   },
   "outputs": [
    {
     "name": "stdout",
     "output_type": "stream",
     "text": [
      "RIDDIKULUS \n",
      " were staring at her . she was up next to face the boggart in defense against the dark arts class . she was not scared , but what she was worried about was what had happened with lysander . she looked up at the boggart in front of her which had previously been a humongous spider . its eyes locked on her . before she could think of what frightened her , the spider transformed into lysander . he was dying . there were giggles coming from the male and female hufflepuff students . there was a smirk on lorcan 's face . `` lily help me '' i ca n't fail this class because of a secret love . lily lifted her wand and said , ``\n"
     ]
    }
   ],
   "source": [
    "print(df_train.iloc[0][1], '\\n', df_train.iloc[0][2])"
   ]
  },
  {
   "cell_type": "markdown",
   "metadata": {
    "id": "iwvdPGeEj76J"
   },
   "source": [
    "### Как использовать WordNet из nltk?"
   ]
  },
  {
   "cell_type": "code",
   "execution_count": null,
   "metadata": {
    "colab": {
     "base_uri": "https://localhost:8080/"
    },
    "id": "GzgyOnxfj76J",
    "outputId": "3d0b44b4-23e8-4c66-fefa-1133831f2ab9"
   },
   "outputs": [
    {
     "name": "stderr",
     "output_type": "stream",
     "text": [
      "[nltk_data] Downloading package wordnet to /root/nltk_data...\n",
      "[nltk_data] Downloading package omw-1.4 to /root/nltk_data...\n"
     ]
    },
    {
     "data": {
      "text/plain": [
       "True"
      ]
     },
     "execution_count": 10,
     "metadata": {},
     "output_type": "execute_result"
    }
   ],
   "source": [
    "# скачиваем WordNet\n",
    "nltk.download('wordnet')\n",
    "nltk.download('omw-1.4')"
   ]
  },
  {
   "cell_type": "code",
   "execution_count": null,
   "metadata": {
    "colab": {
     "base_uri": "https://localhost:8080/"
    },
    "id": "azbIcNCqj76J",
    "outputId": "db12f042-7577-4880-8979-7eae8f96df75"
   },
   "outputs": [
    {
     "data": {
      "text/plain": [
       "[Synset('magic.n.01'), Synset('magic_trick.n.01'), Synset('charming.s.02')]"
      ]
     },
     "execution_count": 11,
     "metadata": {},
     "output_type": "execute_result"
    }
   ],
   "source": [
    "# слово -> множество синсетов (синонимов разных смыслов исходного слова)\n",
    "wn.synsets('magic')"
   ]
  },
  {
   "cell_type": "code",
   "execution_count": null,
   "metadata": {
    "colab": {
     "base_uri": "https://localhost:8080/"
    },
    "id": "MTs5SNz7j76K",
    "outputId": "d2863d70-68f9-48fb-ebbd-e82753de5a89"
   },
   "outputs": [
    {
     "data": {
      "text/plain": [
       "Lemma('magic_trick.n.01.magic_trick')"
      ]
     },
     "execution_count": 12,
     "metadata": {},
     "output_type": "execute_result"
    }
   ],
   "source": [
    "# посмотрим, что внутри одного синсета\n",
    "wn.synsets('magic')[1].lemmas()[0]"
   ]
  },
  {
   "cell_type": "code",
   "execution_count": null,
   "metadata": {
    "colab": {
     "base_uri": "https://localhost:8080/",
     "height": 36
    },
    "id": "54ZbxXGtj76K",
    "outputId": "5ec0e824-4f91-43ca-cb2c-69603be314bd"
   },
   "outputs": [
    {
     "data": {
      "application/vnd.google.colaboratory.intrinsic+json": {
       "type": "string"
      },
      "text/plain": [
       "'deception'"
      ]
     },
     "execution_count": 13,
     "metadata": {},
     "output_type": "execute_result"
    }
   ],
   "source": [
    "# возьмем лемму одного из слов из синсета\n",
    "wn.synsets('magic')[1].lemmas()[-1].name()"
   ]
  },
  {
   "cell_type": "markdown",
   "metadata": {
    "id": "ObzsadGqrUr5"
   },
   "source": [
    "## Часть 1. [2 балла] Эксплоративный анализ \n",
    "1. Найдите топ-1000 слов по частоте без учета стоп-слов.\n",
    "2. Найдите топ-10 по частоте: имен, пар имя + фамилия, пар вида ''профессор'' + имя / фамилия. \n",
    "\n",
    "[бонус] Постройте тематическую модель по корпусу HPAC.\n",
    "\n",
    "[бонус] Найдите еще что-то интересное в корпусе (что-то специфичное для фанфиков или фентези-тематики)"
   ]
  },
  {
   "cell_type": "markdown",
   "metadata": {
    "id": "Su4XztEVXNYu"
   },
   "source": [
    "### 1.1"
   ]
  },
  {
   "cell_type": "code",
   "execution_count": null,
   "metadata": {
    "colab": {
     "base_uri": "https://localhost:8080/"
    },
    "id": "PhStEVVpj76L",
    "outputId": "23f0d72a-4ee0-4a73-aedc-af1128f085a5"
   },
   "outputs": [
    {
     "name": "stdout",
     "output_type": "stream",
     "text": [
      "1\n",
      "first , harry heard a faint cursing , but this was nothing unusual and so he rubbed his hair dry , without ruffles or excitement . to the following sigh he also gave no attention , impassive he started , to get dressed . but after a particularly deep sigh , he just had the first buttons of his shirt buttoned , his curiosity was piqued . `` okay , what 's going on ? '' ron , from whom he could see only the bare lower legs and feet behind the locker door , growled : `` nothing ! '' `` your behavior speaks another language , mate . you are usually always the first , who disappear from the locker room - '' he poked his head around the door . `` now you 're still only in a towel . and why the hell are you staring in your locker ? '' he peered over ron 's shoulder into the locker . `` it is not about a spider -- or ? '' ron blocked with his full height a sight into the locker and snorted : `` you think , then i would still be here ?! '' harry turned with a grin back to his own locker . accompanied by sighs and grumbling on the part of his friend , he closed the last few buttons of his shirt . just as he buckled the belt of his trousers , came the expected words : `` all right , i 'll show you ! '' hastily , harry slammed his own locker door shut and went around to ron , who took a suit bag out of the locker . he gave harry a stern look : `` promise not to laugh ! '' as harry nodded in agreement -LRB- of course , aware that this could be an empty promise -RRB- , ron glanced around the room , before he opened the zipper of the bag . harry stepped closer , to have a better look at the contents : `` is this a - '' . `` kilt , yes ! '' `` sorry about the dumb question , but why do you hide a kilt in your locker ? '' his friend sighed : `` marie 's family belongs to the muggle-scottish nobility . '' -- `` wow , i had no idea . '' -- `` just as i. her father is something like an earl , who is very proud of his heritage and according to seamus , furthermore really scary . '' -- `` thank merlin , that my father-in-law arthur weasley is . '' -- `` lucky bastard ! '' -- `` gee , your father in law is also not an ogre , on the contrary . '' ron winked : `` you 're right . normally , he is a good-hearted man , but you should have seen his face , when i spent the night in hermione 's room for the first time -- i tell you , very frightening . '' `` but you survived it ! '' `` yeah , and now we are bosom buddies . where was i ? '' `` at the terrifying scottish earl . '' `` right . as seamus asked him for his daughter 's hand and his blessing , he linked his permission with a condition , that the ceremony takes place after scottish tradition . '' `` and that means - '' `` groom and groomsmen have to wear a kilt . '' harry stared at his friend , who was rubbing his neck sheepishly and muttered : `` this explained , why seamus wanted to know my size , hmm . i just hope , that dean and i do n't freeze the ass or other important parts off in this item . '' harry burst out laughing . `` it 's not funny '' . however , contrary to ron 's words the corners of his mouth began to twitch and suddenly he laughed heartily too . after a long while harry wiped the tears of laughter from the corner of his eyes and rasped : `` it 's not bad , even sean connery wears a kilt from time to time . '' `` who ? '' `` james bond , secret agent . '' `` does he work for the ministry ? '' `` unfortunately , no . perhaps 007 tells you something ? '' ron shrugged his shoulders : `` says to me absolutely nothing . '' `` nevermind . i just wanted to say , you 'll definitely make a good impression in a kilt , whereas it will be worse for seamus . '' `` why that ? '' `` seamus is an irishman . '' `` are you kidding ? he loves the scots and their customs . '' he hung the suit bag back into the locker : `` i 'm just glad , that george is not invited . '' as ron stepped out of the fireplace , he barely had time to knock the ash off his clothes . with the energy of a whirlwind his niece molly came into the living room and rushed to him . he scratched his head and frowned : `` oh dear , apparently i have taken the wrong turn in the flow network ! '' his niece stopped in front of him and looked at him confused . `` since i ended up in the house of my brother percy and his family . '' he shook his head : `` how silly of me . '' he stepped back into the fireplace and waved to her . `` i see you on sunday at the burrow . bye , molly . '' molly yelled : `` stop , uncle ron , you 're not making a wrong turn . '' `` are you sure ? '' she nodded vigorously . hesitantly , he stepped out of the fireplace : `` lives here really miss rose weasley ? '' once again a nod . `` and mrs. hermione weasley ? '' `` and you also , uncle ron . '' she added . he wiped the nonexistent sweat from his forehead : `` phew , now i am relieved . '' grinning , he knelt down and held his arms open : `` where 's my hug ? '' the girl jumped into his arms and snuggled up to him . `` uncle won , uncle won . '' -LRB- at ron 's regret it sounded more like won -- why toddlers had of all trouble with the letter r , remained a mystery for him -RRB- . ron looked over the heads of his niece to his nephew and godson james , who stumbled on his little legs into the living room , directly followed by fred . `` and whom have we got here ? our troublemakers james and freddy . '' molly broke away from her uncle 's arms and scowled with james : `` sir jamie , i have told you , that you have to stay with prince arthur . '' unimpressed by his cousin and the fate of prince arthur , james stood in front of his uncle and called demanding : `` broom ! '' `` your friendly wish is my command , sir jamie . '' ron faced his niece : `` but only if it is agreeable to my lady molly . '' she nodded . ron straightened up and grabbed his , full of anticipation clucking , godson by the arm and leg , and spun him around . as he stopped , fred tugged at his pant leg and looking at him pleadingly . `` you too ? '' beaming , his nephew nodded . after a few rounds ron sat fred gently down , who giggled : `` that was fun . '' his uncle glanced questioningly at molly : `` what about you ? '' she shook her head and crossed her arms over her chest : `` this is only for infants . '' james grabbed her hand : `` you must , mo. '' uncertainly , molly nibbled on her lower lip : `` it 's not dangerous ? '' `` as long as we have enough space - '' she glanced around and finally nodded : `` all right , let 's do it . '' to the applause of her cousins , she ` flew ' shortly thereafter through the air . `` ronald billius , what are you doing ? '' without stopping , ron cried gasping : `` i let fly a broom . '' `` stop right now - '' , ordered his wife , `` before someone gets hurt or our furniture will be destroyed . '' ron stopped and sat molly on the ground : `` no one gets hurt or destroyed . '' hermione raised her eyebrows , ron smiled sheepishly : `` that happens only once so far and the vase was promptly fixed by me . '' his wife turned to the children : `` i believe , prince arthur is still waiting for his tea . '' horrified , molly 's eyes widened : `` oh no , the poor prince . follow me my noblemen ! '' envious , ron gazed after the children , who hurried from the room . he cleared his throat : `` prince arthur ? '' `` a stuffed animal . but do n't change the subject , my dear . '' he approached his wife with a smirk on his lips and pointed his finger at him : `` i ? i would never do that . incidentally , love of my life , you look very pretty today ... '' -- he hesitated for a moment , before he continued with a wink -- `` even with baby vomit in the hair . '' calmly , she shrugged her shoulders : `` it 's baby mash , apparently albus does not like spinach . '' `` he 's not the only one ! '' ron murmured , unfortunately not quiet enough , judging by her expression , `` finally , our rosie is also not a spinach fan . '' `` and , whose fault is that ? your facial expression and choking noises spoke volumes , when i tried to feed her . '' `` that stuff is just disgusting ... '' , he shuddered , `` and that twice , you know , before and afterwards in the diaper . '' his wife turned with a `` humph ! '' around and ron followed her with a smile into the kitchen -LRB- in return for the last spinach diaper , she had to play three games of chess with him . -RRB- , where audrey and ginny were engaged in an animated conversation . he lifted his hand casually and bellowed cheerful in the round : `` hi , ron is home ! '' immediately , five faces -LRB- wherein the faces of albus , lucy and rose looked , as if they were involved in a bizarre accident with colors -RRB- looked upon him and one pair of arms reached out for him . `` hello , ron . '' he smiled at audrey and ruffled the hair of his sister , who pushed his hand away and rolled her eyes . she sighed exaggeratedly : `` i knew , it was too good , to be true . '' as he lifted his daughter from the high chair , he glanced at the kitchen table , where various glasses with hermione 's homemade baby mash were . `` what 's going on here -- perhaps another beautyday , this time with mash instead of cucumber masks ? '' , he quipped . `` yes , you 're right , we lubricate the mash on the face , to get a soft skin . '' ginny took a teaspoon full of mush of one of the glasses : `` want to try it ? '' ron eyed the teaspoon and swallowed : `` uh , ginny , do n't forget , i have rosie on the arm . '' `` be glad ! '' , snorted his sister and dropped the spoon . hermione shook her head , while audrey chuckled : `` we make a kind of field research . hermione told us , that babies have a pronounced sense of taste and self-cooked baby mash simply tastes different . '' she looked down at daughter : `` and i have to agree with her , lucy loves homemade mash . '' ginny sighed : `` just like rose and most likely every other baby . but not my son , oh no , he wants only breastmilk and denied hermione 's mash in whatever flavor . '' `` i think , we simply have not found the right flavor . mmm , rose 's favorite flavor is pumpkin . ron , be a sweetheart and fetch a glass from the cupboard . '' `` sure . '' he put his daughter back in the highchair , pulled his wand out and called : `` accio pumpkin ... . '' `` ronald ! '' `` what ? '' hermione snatched the wand from his hand : `` and now go ! '' but even the pumpkin mash was spurned by albus , as well as the vegetables and carrot mash . ron bit back the remark for a mash with chocolate flavor and instead munched on a healthy but very dry rice cracker . he saw at once his childhood in a different light and apparently his sister shared these thoughts . when hermione gave them a lecture about the oh-so-vital nutrients , she bent slightly to him and whispered : `` well , although our mother 's food was everything except healthy , i can say with complete justification , we are in good physical shape . '' ron coughed : `` except maybe percy . '' -- ginny 's mouth twitched : `` but one of seven is a good rate . '' audrey raised an eyebrow and clucked her tongue . at that moment , rose rubbed her eyes with her fists and yawned heartily . ginny smiled : `` oh , that 's our signal to leave . what do you mean , audrey ? '' audrey nodded in agreement : `` my husband ... '' she glanced pointedly at ron , `` who is by the way , in a very good physical condition , thank you very much , should already be home . '' ron dodged from the confused gaze of his wife by jumping up from the chair : `` i 'll get the kids . '' when he arrived in the living room with the tired children and the stuffed animal named ` prince arthur ' , the women were already in front of the fireplace . as the first audrey turned with molly and lucy in the fireplace . before she threw the floo powder , she winked at hermione : `` on occasion , you have to tell me , how do you manage to make homemade mush , despite a baby and ron . '' hermione smirked : `` oh , rose hardly makes any work . '' ron crossed his arms over his chest : `` ha , ha , very funny . '' after audrey and her children had disappeared into the green flames , ginny grabbed a handful of floo powder : `` okay , i will see you tomorrow morning . '' questioningly , ron looked at his wife : `` what is tomorrow morning ? '' both women answered in unison : `` we go shopping . '' ron shuddered inwardly - while ginny and hermione loved to go shopping , he avoided , if possible , shopping trips . `` ginny , wait ! '' ron exclaimed and turned to his wife : `` maybe it 's the surroundings , why albus does not eat here . the best bet is to give her a pair of glasses to take with her , you know , to try out my guess . '' his wife 's eyes lit up and she pressed rose in his arms : `` that 's a great idea . i 'll be right back . '' `` hermione , that 's really not ... . '' ginny 's appeal fell on deaf ears , because her sister-in-law was already out the door . she gave her brother a dirty look , who called after his wife : `` and do n't forget a glass of mushy peas ! '' he winked at his sister and added quietly : `` you will love this . '' ginny stuck her tongue out at him -- with the result , that her giggling son clapped his hands in delight . bored , ron tapped his fingers on his chest . he turned his head to his wife : `` interesting reading material ? '' `` hmm , so lalala . '' he nudged her leg with his foot : `` i 'm freshly shaved . '' `` that 's nice . '' she replied distracted ron crawled closer to her . she looked down at him and raised her eyebrow . he gave her his best smile : `` did i mention recently , how beautiful you are ? '' she snorted : `` even without spinach in my hair ? '' he did , as he would have to consider , whereupon she hit him lightly with her magazine on the head : `` as always , prince charming . '' `` one does , what one can . '' `` speaking of doing , my prince charming , i do n't mind if you play plane . . '' -- `` broom . '' -- `` broom or other wild stuff with the kids , but please not in the house . '' ron leaned forward and ran a hand under her pajama top : `` hmmm . '' `` ron . '' `` hmm . '' `` do you agree with me ? '' `` do i have a choice ? '' `` of course not . '' `` then yes , i agree with you . '' he caressed her belly . she placed her hand over his and stopped his seduction attempts : `` i think , that 's not a good idea . '' `` and why not ? '' `` we have to get up early , and ... '' he leaned back and grinned at her : `` you mean , you have to get up early . i , for my part , - '' `` need a suit for seamus and marie 's wedding . finally , you 're one of the groomsmen . '' ron 's grin disappeared and he groaned in horror . `` by the way , what said seamus about the dress code . '' `` dress code ? '' croaked ron . `` usually wear the groomsmen at a muggle wedding uniform clothing . '' -- ron swallowed and in his mind 's eye appeared the kilt . '' -- `` for example , black suit with a gray tie or a blue suit . but the majority - . '' -- `` i already have clothing for the wedding . '' -- `` favor a tuxedo ... pardon , said you just , you already have a suit ? '' he nodded : `` yes , you heard correctly . '' his eyes lit up : `` this probably means ... '' he waved his hand : `` bye , shopping trip . '' `` not so fast , sweetheart , first i want to know , what are you wearing . '' `` my tuxedo . '' ron lied without blushing . `` you mean the tuxedo , which you were wearing at the silver wedding anniversary of my parents ? '' `` what 's wrong with this ? '' `` that was two years ago . '' `` so what ? unlike women , men do n't buy at every available opportunity new clothes . furthermore , the suit still fits . '' `` prove it . '' `` right now ? '' hermione turned back to her magazine : `` unless , you want to get up at 06.00 o'clock in the morning . '' with a sigh , ron tossed the bedspread aside and swung his legs over the edge of the bed . he looked over his shoulder at his wife : `` is that really necessary ? '' `` of course not , love , we buy for you tomorrow just a new tuxedo . '' , she replied in a sugar-sweet tone , without looking up from her magazin . muttering to himself , ron went to the wardrobe and took out his tuxedo : `` i suppose , i must put on the complete suit ? '' `` i think , it goes without the bow tie . '' he drew the trousers over his pajama bottoms , buttoned up his white dress shirt and then slipped into the jacket : `` happy ? '' his wife looked up : `` turn around . '' ron lifted his arms and turned in a circle . `` now bend your knees . '' `` what ? '' she gestured with her hand an up and down motion : `` a squat . '' `` this is revenge for the remark with the shopping , right . '' she smiled innocently : `` i do n't know , what you mean , darling . '' shaking his head , ron did as he was told , but not without to scold : `` what comes next , sit-ups or pull-ups , oh , wait , that is certainly one of the wild stuff , which is banned . remain only pushups . '' before hermione could answer , her husband already made several pushups . she stretched her upper body , to have a better look at him . wow , even during sports her husband looks good in a tuxedo . to her regret , he stopped much too soon and jumped up smoothly : `` as i said -- it still fits like a glove . '' `` so fit , as you . '' hermione muttered and quickly hid her flushed face behind her magazine . she cleared her throat and looked at him over the rim of the magazine : `` alright , no new suit , but you definitely need new shoes . '' as ron opened his mouth , she added : `` you are going shopping with me , end of the discussion ! '' `` discussion ? which discussion ? and besides , who goes on a saturday for shopping in the diagon alley ? '' `` muggle london . '' -- `` pardon ? '' -- `` we need muggle clothes , so we go into the shopping mile of london . '' he took a deep breath and hissed through clenched teeth : `` shopping mile ? '' she nodded and watched him , when undressing . it was a miracle , that the buttons on the shirt remained , though he opened them with barely suppressed rage . her eyes followed him , as he got with tousled hair and with anger sparkling eyes into bed . he turned his back to her and grumbled : `` night . '' she put her magazine on the nightstand , grabbed her wand and murmured quietly a spell . satisfied , she observed , how the tuxedo disappeared from the floor in the closet . for a while it was quiet in the bedroom , until hermione scooted closer to her husband and whispered in his ear : `` i thought , you were going to seduce me . '' `` i 'm no longer in the mood . '' ron replied gruffly . she leaned her head on his upper arm and glanced down at him : `` that would be a pity , especially as i would not longer be averse . '' `` and what about , we have to get up early ? '' she placed her hand on his belly : `` five minutes less sleep does n't make a difference . '' her husband gave her an icy glare and took her hand from his belly . hermione laughed : `` oh come on , love , that was a joke . '' he pulled the blanket up to his chin and closed his eyes . `` i meant the five minutes , not the sex per se . '' but her husband did not move and remained silent . she rolled to the side and huffed : `` and i thought , you can take a joke . '' harry knocked on the door frame to ron 's office , before he full of verve entered . ron gave him a dark look and threw a piece of crumpled paper towards the waste basket . grinning , harry bent down and picked the - lying next to the basket paper - up : `` what 's wrong with you ? '' he stepped back a few steps , rolled the paper into a ball and threw it into the basket . his friend leaned back and ran a feather of his quill over his chin : `` let me think . instead of a cozy saturday with brunch and quidditsch at the burrow , i was on a shopping trip through london . and to make the day perfect , my sister teased me with comments about wearing a skirt , since my so-called best friend could not keep his mouth shut . '' `` you do n't say ! who was that gossip merchant ? '' ron rolled a piece of paper together and pelleted harry : `` buffoon . '' laughing , harry lifted his hands : `` heh , i come in peace . and as a peace offering from your sister , i have here - '' he reached into his jacket pocket and pulled out a small box , which he placed on the desk , `` a gift . '' mistrustful , ron looked at the package : `` a smart man once said , do n't trust witches , even when they bring gifts . '' '' i think , it is called correctly , beware of greeks bearing gifts ... '' `` apparently he did not know my sister ! '' but the curiosity got the better of the mistrust , and so took ron the box in his hand . he raised his eyebrows and read aloud : `` depilatory wax ? '' harry sat down on the edge of the desk and nodded cheerfully : `` according to the latest edition of the witch weekly , the wizard of today pays attention to his appearance and depilated his legs . and since you are going to wear a kilt , recommends ginny , that you should ... . '' `` depilated my legs ? '' `` right ! '' `` with wax ? '' `` no candle wax . depilatory wax . millions of muggle women used the stuff already and now it also making inroads into our world . '' ron flung the pack on the desk : `` this is bullshit ! '' `` hey , is a great way to get rid of unwanted body hair . of course there are also other ways , such as shaving or with an epilator . i bet , there is probably also a spell for that . '' his friend narrowed his eyes : `` you know quite a lot about . '' harry blushed and stuttered : `` only in the theory . '' to himself whistling , ron stepped out of the shower , grabbed a towel and wrapped it around his waist . he went in front of the mirror and smeared generously shaving cream in his face . then he picked up the razor and glanced at his wife , who was sitting with rose in the bathtub : `` it 's still not too late . '' `` sorry , my dear , but my opinion on the subject beard has not and will never change . '' ron knelt down next to the tub and pulled affectionately at one of rose 's wet curls : `` and what do you think , rosie-posie ? '' rose kicked excited with her legs and sucked on a washcloth . he grinned and stood up : `` thank you for talking ! '' hermione laughed : `` this probably means , your daughter does n't like your beard hairs either . '' minutes later he looked - freshly shaved - critically down at his legs and grasped with a sigh the shaving cream can . hermione , who wrapped her daughter in a towel , watched her husband curiously out of the corner of her eyes : `` what now ? '' he glanced up : `` the wizard of today pays attention to his appearance and depilated his legs . '' hermione bit her lip to keep from laughing and lifted her daughter in her arms : `` you do n't want to shave off your facial hair , but your leg hair ? '' `` a beard is manly , hairy legs not ! '' she stopped at the door and looked over her shoulder at his legs : `` if you are interested in my opinion on this matter , i think , your legs are manly as they are . '' -- he glanced again at his legs : `` you think , that my legs are manly ? '' -- - `` yes , and for heaven 's sake , stop listening to george . '' `` that did not come from george , it was in the witch weekly . '' ron called after her and placed the can with the shaving cream back into the bathroom cabinet . ron crossed his hands behind his head and watched harry , who brooded over his next move . finally , he reached out his hand for the springer -- ron raised his eyebrows - and harry pulled his hand back , without making a move . hermione closed her book and stretched out her arms . `` sorry guys , but my bed calls for me . '' without looking up from the chessboard , harry waved to her : `` good night . '' she rose from the sofa and faced her husband : `` do n't let it be so late , love . '' `` that depends entirely on harry , who is unfortunately a bit slow . '' `` hee , each move will be well considered . '' `` honestly , harry , but during each of our chess games , i could read the complete ` hogwarts . the history ' . '' hermione burst out laughing and harry chuckled : `` you mean , the comic book ` the adventures of martin miggs , the mad muggle . ' '' he held up his hand and hermione gave him a high five . ron blushed and hermione ruffled his hair : `` oh , my poor hubby . '' she smiled at him lovingly , until harry cleared his throat . she flushed : `` uh , yeah . at any rate , remember , you need your strength for seamus bachelor party , which will certainly be an exhausting event . '' both men looked at each other and grinned : `` you bet . '' harry waited until hermione left the room , before he asked : `` ron ? '' -- `` hmm ? '' -- `` i 'm right , that she still do n't know about your outfit . '' -- `` yeah . '' -- `` but the wedding is in two days . '' -- `` she sees me early enough in that thing , do n't you think . '' harry snickered and finally made his next chess move . `` good move , but not good enough , mate . '' ron moved his chess piece and called : `` checkmate . '' his chess pieces congratulated each other , while harry 's remaining figures sulked . `` rematch ? '' `` is my name harry james potter . '' `` aye , sir . '' `` then yes ! '' whereas the figures went to their places , harry glanced at his friend . `` what ? '' the latter asked . `` i just wondered , if you 've already depilated your legs . '' `` nope , my legs are fine and do n't need a hair removal . '' harry snorted : `` says who ? '' `` my wife . '' `` mate , do n't you think , she 's a little , uh , biased . '' ron thought for a moment , before nodding with a mischievous gleam in his eyes : `` you are right , besides , the witch weekly does not lie . let 's do it . '' he flicked his wand and used the spell `` accio '' to summon the depilatory wax : `` okay , it says on the packet , that it 's necessary to heat your depilatory wax in a microwave - '' , he waved his wand , `` in our case with a wand , for about two to three minutes . '' without looking up from the instructions , he ordered : `` roll up your pants . '' `` whoa . . , why . '' harry stuttered . ron looked at him sternly : `` you do n't want to risk , that hermione caught us with our pants down . '' `` no , i mean , why should i roll up my pants . '' `` cling together , swing together . come on , be a true gryffindor . '' grumbling , harry did as he was told . ron heated the wax with his wand , then he used a provided strip to press it on harry 's skin : `` now we wait , till the wax is cold , then i remove the strip from your skin . i have to say , this is foolproof . '' `` you 're easy to talk . '' `` how bad can it be , harry , millions of women do it every day . '' he rubbed over the strip : `` alright , the wax is cold . are you ready ? '' -- harry smiled wryly : `` do i have a choice ? '' -- `` on three . one ... two ... . '' with a flourish ron pulled the strip off . harry gasped for breath . enthusiastically , ron looked at his work : `` wow , almost as smooth as a baby 's bottom . '' he glanced up : `` see for yourself . '' he stopped : `` harry , are you crying ? '' harry sniffed : `` no '' . - ron burst out laughing . -- `` thanks for your compassion . '' -- `` sorry , but i can not feel sympathy for you , mate , blame your wife . '' -- harry pulled out his wand and destroyed the infernal stuff . so much was sure , the scots know how to distill whiskey . `` good ? '' , asked andrew , seamus brother in law . ron nodded with teary eyes and croaked : `` i drunk never a better one , that 's for sure . '' as andrew wanted to refill his glass , ron held his hand over it : `` maybe later . '' andrew laughed and disappeared with the bottle in the crowd . `` and i thought , the kilt turns you automatically into a hard-drinking scots . '' ron turned to face harry : `` unfortunately , no . another glass of the stuff and i 'm unusable . '' `` speaking of usable . '' he raised a muggle camera against his eye , and shouted : `` say cheese ! '' ron groaned : `` have you not already enough photos ? '' `` nope , i need one photo ` ron in a kilt ' for your parents , parents-in-law , george , charlie , rita ... '' `` rita such as rita skeeter ? '' ron yelled shocked harry studied his fingernails : `` i might think about it , if you ... '' `` under no circumstances i depilate my legs with wax . '' his friend waved with the camera : `` are you absolutely sure . '' `` ask me again after my next glass of whiskey . '' - harry grinned triumphantly . - ron looked over harry 's shoulder and added : `` but for now , you should draw all your attention to ginny . it looks like , she , uh , fond of men in kilts . '' harry spun around , indeed , ginny chatted with her ex , dean thomas . instantly , harry 's eyes narrowed and his face reddened . without another glance at ron he approached ginny . once there , he placed his arm around her shoulder . suddenly a hand slipped into ron 's . `` that was not nice , you know very well , that ginny - by the way , just like me - has eyes only for her husband ! '' he glanced at her : `` is that so , mrs. weasley ? '' she smiled and squeezed his hand : `` absolutely , mr. weasley , but do n't forget , i prefer you with hairy legs . '' he chuckled : `` let me guess ... '' they looked at each other and said at the same time : `` ginny . '' `` honestly , a depilation would have been for the birds , with these knee high socks -- look , you see nothing from my legs . '' `` do n't complain , i find the knee high socks very ... '' `` rustic ? '' , ron suggested . -- `` are you crazy ? these are . . '' , she lowered her voice , `` erotic . '' incredulous , he looked at her . embarrassed , she nodded . he nudged her with his shoulder and asked : `` come and dance ? '' '' i thought , you 'd never ask . '' skillfully , ron led his wife , his hand resting against her lower back , through the crowd on the dance floor . he wrapped his arms around her , while she laid her head on his chest . they did not care , that a fast song was played , engrossed in their own world they swayed slowly on the spot and simply enjoyed the proximity of each other . `` love ? '' -- `` hmm . '' -- `` do you think , seamus and marie would be very offended , when we leave their celebration at an early stage . '' -- `` you mean after the wedding cake ? '' -- `` actually , i thought of right now . '' ron stopped and asked worriedly : `` do you feel not good , are you sick ? '' hermione lifted her head and kissed him on the chin : `` quite the opposite . '' she wiggled her eyebrows . confused , he looked down at her , until the penny dropped : `` ohh . '' she grabbed his hand and pulled him from the dance floor . `` wait , hermione . '' she stopped and gave him a questioning look . he looked at her pleadingly : `` if i promise , that we will disappear immediately after the wedding cake ... '' hermione interrupted him : `` and if i promise , that you can order from the room service at our hotel so much you like and no matter ... '' `` let 's go . '' ginny stood on the dance floor edge and fanned with the hand her face , as her sister-in-law , with ron on her heels , stopped in front of her : `` ginny , i need to ask you for a big favor . '' ginny nodded and looked curiously at both : `` fire away . '' `` could you please excuse us at seamus and marie ? '' `` do n't tell me , you want to go already ? '' called out harry , who carried a glass of champagne in each hand . `` here , darling , your champagne . '' he handed his wife a glass . - ginny blew him a kiss : `` thank you , love . '' -- he turned to ron and hermione : `` before the arrival of the wedding cake ? '' ginny stepped into the breach and answered for the two : `` hermione feels a little uncomfortable - it seems , she caught a bug . '' under harry 's searching glance , hermione flushed , what he apparently interpreted as a sign of an emerging fever : `` do you need a fever potion ? '' . -- `` thank you , harry , i swallow just a muggle-pill and go straight to bed . '' -- sympathetically , he squeezed her shoulder . ginny covered her mouth with her hand , so that her grin stayed unnoticed . harry turned to face ron : `` take care of her . '' -- ron nodded and replied quite seriously : `` i will . '' this doubted his sister by no means . she hugged hermione and whispered in her ear : `` have a lot of fun . '' when the two were gone , harry sighed : `` hopefully , we do n't catch hermione 's bug . '' ginny muttered : `` you 'd better hope for the opposite , my love . '' she put her glass down on a tray and grabbed her husband 's hand : `` let 's dance . ''\n"
     ]
    }
   ],
   "source": [
    "with open('/content/hpac_source/10000036', 'r') as f:\n",
    "  print(len(f.readlines()))\n",
    "  f.seek(0)\n",
    "  for l in f:\n",
    "    print(l)"
   ]
  },
  {
   "cell_type": "code",
   "execution_count": null,
   "metadata": {
    "colab": {
     "base_uri": "https://localhost:8080/"
    },
    "id": "BDG5wU1c3cYZ",
    "outputId": "e0b7c974-f709-4ed0-e0e6-71a86f4d881f"
   },
   "outputs": [
    {
     "name": "stdout",
     "output_type": "stream",
     "text": [
      "['i', 'me', 'my', 'myself', 'we', 'our', 'ours', 'ourselves', 'you', \"you're\", \"you've\", \"you'll\", \"you'd\", 'your', 'yours', 'yourself', 'yourselves', 'he', 'him', 'his', 'himself', 'she', \"she's\", 'her', 'hers', 'herself', 'it', \"it's\", 'its', 'itself', 'they', 'them', 'their', 'theirs', 'themselves', 'what', 'which', 'who', 'whom', 'this', 'that', \"that'll\", 'these', 'those', 'am', 'is', 'are', 'was', 'were', 'be', 'been', 'being', 'have', 'has', 'had', 'having', 'do', 'does', 'did', 'doing', 'a', 'an', 'the', 'and', 'but', 'if', 'or', 'because', 'as', 'until', 'while', 'of', 'at', 'by', 'for', 'with', 'about', 'against', 'between', 'into', 'through', 'during', 'before', 'after', 'above', 'below', 'to', 'from', 'up', 'down', 'in', 'out', 'on', 'off', 'over', 'under', 'again', 'further', 'then', 'once', 'here', 'there', 'when', 'where', 'why', 'how', 'all', 'any', 'both', 'each', 'few', 'more', 'most', 'other', 'some', 'such', 'no', 'nor', 'not', 'only', 'own', 'same', 'so', 'than', 'too', 'very', 's', 't', 'can', 'will', 'just', 'don', \"don't\", 'should', \"should've\", 'now', 'd', 'll', 'm', 'o', 're', 've', 'y', 'ain', 'aren', \"aren't\", 'couldn', \"couldn't\", 'didn', \"didn't\", 'doesn', \"doesn't\", 'hadn', \"hadn't\", 'hasn', \"hasn't\", 'haven', \"haven't\", 'isn', \"isn't\", 'ma', 'mightn', \"mightn't\", 'mustn', \"mustn't\", 'needn', \"needn't\", 'shan', \"shan't\", 'shouldn', \"shouldn't\", 'wasn', \"wasn't\", 'weren', \"weren't\", 'won', \"won't\", 'wouldn', \"wouldn't\"]\n"
     ]
    },
    {
     "name": "stderr",
     "output_type": "stream",
     "text": [
      "[nltk_data] Downloading package stopwords to /root/nltk_data...\n",
      "[nltk_data]   Unzipping corpora/stopwords.zip.\n"
     ]
    }
   ],
   "source": [
    "nltk.download('stopwords')  # скачаем стоп-слова для английского языка\n",
    "print(stopwords.words('english'))\n",
    "stop = stopwords.words('english') + list(punctuation) + ['``', '/n', '--', '...']"
   ]
  },
  {
   "cell_type": "markdown",
   "metadata": {
    "id": "TRZ_U4r_CCkb"
   },
   "source": [
    "Считаем корпус наших текстов в удобной форме для подачи в функцию, которая выполнит предобработку (препроцессинг) текстов и подсчет встречаемости (частотности) слов."
   ]
  },
  {
   "cell_type": "code",
   "execution_count": null,
   "metadata": {
    "id": "YySmJVb0AR9n"
   },
   "outputs": [],
   "source": [
    "d = {}  # создадим словарь из пар название файла - текст, лежащий в этом файле\n",
    "dir_name = '/content/hpac_source'\n",
    "for f_name in os.listdir(dir_name):\n",
    "  with open(dir_name + '/' + f_name, 'r') as f:\n",
    "    l = f.readline()\n",
    "    d[f_name] = l"
   ]
  },
  {
   "cell_type": "code",
   "execution_count": null,
   "metadata": {
    "colab": {
     "base_uri": "https://localhost:8080/",
     "height": 424
    },
    "id": "CKiBTPu4C755",
    "outputId": "9093a787-6c2c-44ac-872b-522095b78d9a"
   },
   "outputs": [
    {
     "data": {
      "text/html": [
       "\n",
       "  <div id=\"df-48836d92-cf7b-4593-b646-873d096f58e2\">\n",
       "    <div class=\"colab-df-container\">\n",
       "      <div>\n",
       "<style scoped>\n",
       "    .dataframe tbody tr th:only-of-type {\n",
       "        vertical-align: middle;\n",
       "    }\n",
       "\n",
       "    .dataframe tbody tr th {\n",
       "        vertical-align: top;\n",
       "    }\n",
       "\n",
       "    .dataframe thead th {\n",
       "        text-align: right;\n",
       "    }\n",
       "</style>\n",
       "<table border=\"1\" class=\"dataframe\">\n",
       "  <thead>\n",
       "    <tr style=\"text-align: right;\">\n",
       "      <th></th>\n",
       "      <th>f_name</th>\n",
       "      <th>text</th>\n",
       "    </tr>\n",
       "  </thead>\n",
       "  <tbody>\n",
       "    <tr>\n",
       "      <th>0</th>\n",
       "      <td>8451124</td>\n",
       "      <td>the kiss hermione sighs . it 's been days sinc...</td>\n",
       "    </tr>\n",
       "    <tr>\n",
       "      <th>1</th>\n",
       "      <td>9101843</td>\n",
       "      <td>this was just a pointless essay i wrote awhile...</td>\n",
       "    </tr>\n",
       "    <tr>\n",
       "      <th>2</th>\n",
       "      <td>7791855</td>\n",
       "      <td>author 's note : just a little something for f...</td>\n",
       "    </tr>\n",
       "    <tr>\n",
       "      <th>3</th>\n",
       "      <td>2173706</td>\n",
       "      <td>ok this is evil monkeys . i wrote at school an...</td>\n",
       "    </tr>\n",
       "    <tr>\n",
       "      <th>4</th>\n",
       "      <td>12583165</td>\n",
       "      <td>this little drabble was written for the prompt...</td>\n",
       "    </tr>\n",
       "    <tr>\n",
       "      <th>...</th>\n",
       "      <td>...</td>\n",
       "      <td>...</td>\n",
       "    </tr>\n",
       "    <tr>\n",
       "      <th>36220</th>\n",
       "      <td>5471287</td>\n",
       "      <td>title : afterwards character -LRB- s -RRB- : d...</td>\n",
       "    </tr>\n",
       "    <tr>\n",
       "      <th>36221</th>\n",
       "      <td>6039351</td>\n",
       "      <td>things i am not allowed to do at hogwarts i wi...</td>\n",
       "    </tr>\n",
       "    <tr>\n",
       "      <th>36222</th>\n",
       "      <td>11726641</td>\n",
       "      <td>when what people were optimistically describin...</td>\n",
       "    </tr>\n",
       "    <tr>\n",
       "      <th>36223</th>\n",
       "      <td>3850342</td>\n",
       "      <td>disclaimer : definitely not mine . belongs to ...</td>\n",
       "    </tr>\n",
       "    <tr>\n",
       "      <th>36224</th>\n",
       "      <td>2409820</td>\n",
       "      <td>author 's note : this one i am exceedingly pro...</td>\n",
       "    </tr>\n",
       "  </tbody>\n",
       "</table>\n",
       "<p>36225 rows × 2 columns</p>\n",
       "</div>\n",
       "      <button class=\"colab-df-convert\" onclick=\"convertToInteractive('df-48836d92-cf7b-4593-b646-873d096f58e2')\"\n",
       "              title=\"Convert this dataframe to an interactive table.\"\n",
       "              style=\"display:none;\">\n",
       "        \n",
       "  <svg xmlns=\"http://www.w3.org/2000/svg\" height=\"24px\"viewBox=\"0 0 24 24\"\n",
       "       width=\"24px\">\n",
       "    <path d=\"M0 0h24v24H0V0z\" fill=\"none\"/>\n",
       "    <path d=\"M18.56 5.44l.94 2.06.94-2.06 2.06-.94-2.06-.94-.94-2.06-.94 2.06-2.06.94zm-11 1L8.5 8.5l.94-2.06 2.06-.94-2.06-.94L8.5 2.5l-.94 2.06-2.06.94zm10 10l.94 2.06.94-2.06 2.06-.94-2.06-.94-.94-2.06-.94 2.06-2.06.94z\"/><path d=\"M17.41 7.96l-1.37-1.37c-.4-.4-.92-.59-1.43-.59-.52 0-1.04.2-1.43.59L10.3 9.45l-7.72 7.72c-.78.78-.78 2.05 0 2.83L4 21.41c.39.39.9.59 1.41.59.51 0 1.02-.2 1.41-.59l7.78-7.78 2.81-2.81c.8-.78.8-2.07 0-2.86zM5.41 20L4 18.59l7.72-7.72 1.47 1.35L5.41 20z\"/>\n",
       "  </svg>\n",
       "      </button>\n",
       "      \n",
       "  <style>\n",
       "    .colab-df-container {\n",
       "      display:flex;\n",
       "      flex-wrap:wrap;\n",
       "      gap: 12px;\n",
       "    }\n",
       "\n",
       "    .colab-df-convert {\n",
       "      background-color: #E8F0FE;\n",
       "      border: none;\n",
       "      border-radius: 50%;\n",
       "      cursor: pointer;\n",
       "      display: none;\n",
       "      fill: #1967D2;\n",
       "      height: 32px;\n",
       "      padding: 0 0 0 0;\n",
       "      width: 32px;\n",
       "    }\n",
       "\n",
       "    .colab-df-convert:hover {\n",
       "      background-color: #E2EBFA;\n",
       "      box-shadow: 0px 1px 2px rgba(60, 64, 67, 0.3), 0px 1px 3px 1px rgba(60, 64, 67, 0.15);\n",
       "      fill: #174EA6;\n",
       "    }\n",
       "\n",
       "    [theme=dark] .colab-df-convert {\n",
       "      background-color: #3B4455;\n",
       "      fill: #D2E3FC;\n",
       "    }\n",
       "\n",
       "    [theme=dark] .colab-df-convert:hover {\n",
       "      background-color: #434B5C;\n",
       "      box-shadow: 0px 1px 3px 1px rgba(0, 0, 0, 0.15);\n",
       "      filter: drop-shadow(0px 1px 2px rgba(0, 0, 0, 0.3));\n",
       "      fill: #FFFFFF;\n",
       "    }\n",
       "  </style>\n",
       "\n",
       "      <script>\n",
       "        const buttonEl =\n",
       "          document.querySelector('#df-48836d92-cf7b-4593-b646-873d096f58e2 button.colab-df-convert');\n",
       "        buttonEl.style.display =\n",
       "          google.colab.kernel.accessAllowed ? 'block' : 'none';\n",
       "\n",
       "        async function convertToInteractive(key) {\n",
       "          const element = document.querySelector('#df-48836d92-cf7b-4593-b646-873d096f58e2');\n",
       "          const dataTable =\n",
       "            await google.colab.kernel.invokeFunction('convertToInteractive',\n",
       "                                                     [key], {});\n",
       "          if (!dataTable) return;\n",
       "\n",
       "          const docLinkHtml = 'Like what you see? Visit the ' +\n",
       "            '<a target=\"_blank\" href=https://colab.research.google.com/notebooks/data_table.ipynb>data table notebook</a>'\n",
       "            + ' to learn more about interactive tables.';\n",
       "          element.innerHTML = '';\n",
       "          dataTable['output_type'] = 'display_data';\n",
       "          await google.colab.output.renderOutput(dataTable, element);\n",
       "          const docLink = document.createElement('div');\n",
       "          docLink.innerHTML = docLinkHtml;\n",
       "          element.appendChild(docLink);\n",
       "        }\n",
       "      </script>\n",
       "    </div>\n",
       "  </div>\n",
       "  "
      ],
      "text/plain": [
       "         f_name                                               text\n",
       "0       8451124  the kiss hermione sighs . it 's been days sinc...\n",
       "1       9101843  this was just a pointless essay i wrote awhile...\n",
       "2       7791855  author 's note : just a little something for f...\n",
       "3       2173706  ok this is evil monkeys . i wrote at school an...\n",
       "4      12583165  this little drabble was written for the prompt...\n",
       "...         ...                                                ...\n",
       "36220   5471287  title : afterwards character -LRB- s -RRB- : d...\n",
       "36221   6039351  things i am not allowed to do at hogwarts i wi...\n",
       "36222  11726641  when what people were optimistically describin...\n",
       "36223   3850342  disclaimer : definitely not mine . belongs to ...\n",
       "36224   2409820  author 's note : this one i am exceedingly pro...\n",
       "\n",
       "[36225 rows x 2 columns]"
      ]
     },
     "execution_count": 16,
     "metadata": {},
     "output_type": "execute_result"
    }
   ],
   "source": [
    "# Создадим датафрейм из нашего словарика\n",
    "df_txt = pd.DataFrame(d.items(), columns=['f_name', 'text'])\n",
    "df_txt"
   ]
  },
  {
   "cell_type": "code",
   "execution_count": null,
   "metadata": {
    "id": "Q6bCfODpVBeu"
   },
   "outputs": [],
   "source": [
    "def preprocess_text(text):  \n",
    "    \"\"\"функция предобработки текста\"\"\"\n",
    "    text = re.sub(r'/n', ' ', text.lower())\n",
    "    text = re.sub(r'[^a-zA-Z\\s]', '', text)\n",
    "    return text"
   ]
  },
  {
   "cell_type": "code",
   "execution_count": null,
   "metadata": {
    "colab": {
     "base_uri": "https://localhost:8080/"
    },
    "id": "ulOe6JGePUiu",
    "outputId": "0b80d813-4355-484c-df36-17d1d3172e32"
   },
   "outputs": [
    {
     "name": "stderr",
     "output_type": "stream",
     "text": [
      "/usr/local/lib/python3.7/dist-packages/sklearn/feature_extraction/text.py:401: UserWarning: Your stop_words may be inconsistent with your preprocessing. Tokenizing the stop words generated tokens ['arent', 'couldnt', 'didnt', 'doesnt', 'dont', 'hadnt', 'hasnt', 'havent', 'isnt', 'mightnt', 'mustnt', 'neednt', 'shant', 'shes', 'shouldnt', 'shouldve', 'thatll', 'wasnt', 'werent', 'wont', 'wouldnt', 'youd', 'youll', 'youre', 'youve'] not in stop_words.\n",
      "  % sorted(inconsistent)\n"
     ]
    }
   ],
   "source": [
    "# Воспользуемся функцией CountVectorizer для подсчета частоты слов\n",
    "vec = CountVectorizer(stop_words=stop, preprocessor=preprocess_text)\n",
    "bow = vec.fit_transform(df_txt.text)"
   ]
  },
  {
   "cell_type": "code",
   "execution_count": null,
   "metadata": {
    "colab": {
     "base_uri": "https://localhost:8080/"
    },
    "id": "hVxamict30vH",
    "outputId": "7cd2f6c9-f398-4e55-b651-7db53101be7b"
   },
   "outputs": [
    {
     "data": {
      "text/plain": [
       "(36225, 552117)"
      ]
     },
     "execution_count": 19,
     "metadata": {},
     "output_type": "execute_result"
    }
   ],
   "source": [
    "bow.shape"
   ]
  },
  {
   "cell_type": "code",
   "execution_count": null,
   "metadata": {
    "colab": {
     "base_uri": "https://localhost:8080/"
    },
    "id": "5ZuifM3R57W-",
    "outputId": "95fd0535-ff70-4f12-dc89-7b4769049b45"
   },
   "outputs": [
    {
     "data": {
      "text/plain": [
       "552117"
      ]
     },
     "execution_count": 20,
     "metadata": {},
     "output_type": "execute_result"
    }
   ],
   "source": [
    "len(vec.vocabulary_)"
   ]
  },
  {
   "cell_type": "code",
   "execution_count": null,
   "metadata": {
    "colab": {
     "base_uri": "https://localhost:8080/",
     "height": 424
    },
    "id": "W1iYeI2I4Iy8",
    "outputId": "411450d2-32c4-45bc-c725-7285d5da2ca5"
   },
   "outputs": [
    {
     "data": {
      "text/html": [
       "\n",
       "  <div id=\"df-46567fce-fcec-467e-a07e-b2f1f296efa8\">\n",
       "    <div class=\"colab-df-container\">\n",
       "      <div>\n",
       "<style scoped>\n",
       "    .dataframe tbody tr th:only-of-type {\n",
       "        vertical-align: middle;\n",
       "    }\n",
       "\n",
       "    .dataframe tbody tr th {\n",
       "        vertical-align: top;\n",
       "    }\n",
       "\n",
       "    .dataframe thead th {\n",
       "        text-align: right;\n",
       "    }\n",
       "</style>\n",
       "<table border=\"1\" class=\"dataframe\">\n",
       "  <thead>\n",
       "    <tr style=\"text-align: right;\">\n",
       "      <th></th>\n",
       "      <th>word</th>\n",
       "      <th>freq</th>\n",
       "    </tr>\n",
       "  </thead>\n",
       "  <tbody>\n",
       "    <tr>\n",
       "      <th>0</th>\n",
       "      <td>nt</td>\n",
       "      <td>4396854</td>\n",
       "    </tr>\n",
       "    <tr>\n",
       "      <th>1</th>\n",
       "      <td>harry</td>\n",
       "      <td>3991215</td>\n",
       "    </tr>\n",
       "    <tr>\n",
       "      <th>2</th>\n",
       "      <td>said</td>\n",
       "      <td>2262083</td>\n",
       "    </tr>\n",
       "    <tr>\n",
       "      <th>3</th>\n",
       "      <td>would</td>\n",
       "      <td>1903195</td>\n",
       "    </tr>\n",
       "    <tr>\n",
       "      <th>4</th>\n",
       "      <td>hermione</td>\n",
       "      <td>1827016</td>\n",
       "    </tr>\n",
       "    <tr>\n",
       "      <th>...</th>\n",
       "      <td>...</td>\n",
       "      <td>...</td>\n",
       "    </tr>\n",
       "    <tr>\n",
       "      <th>995</th>\n",
       "      <td>umbridge</td>\n",
       "      <td>41609</td>\n",
       "    </tr>\n",
       "    <tr>\n",
       "      <th>996</th>\n",
       "      <td>unless</td>\n",
       "      <td>41508</td>\n",
       "    </tr>\n",
       "    <tr>\n",
       "      <th>997</th>\n",
       "      <td>shop</td>\n",
       "      <td>41435</td>\n",
       "    </tr>\n",
       "    <tr>\n",
       "      <th>998</th>\n",
       "      <td>tight</td>\n",
       "      <td>41321</td>\n",
       "    </tr>\n",
       "    <tr>\n",
       "      <th>999</th>\n",
       "      <td>huge</td>\n",
       "      <td>41274</td>\n",
       "    </tr>\n",
       "  </tbody>\n",
       "</table>\n",
       "<p>1000 rows × 2 columns</p>\n",
       "</div>\n",
       "      <button class=\"colab-df-convert\" onclick=\"convertToInteractive('df-46567fce-fcec-467e-a07e-b2f1f296efa8')\"\n",
       "              title=\"Convert this dataframe to an interactive table.\"\n",
       "              style=\"display:none;\">\n",
       "        \n",
       "  <svg xmlns=\"http://www.w3.org/2000/svg\" height=\"24px\"viewBox=\"0 0 24 24\"\n",
       "       width=\"24px\">\n",
       "    <path d=\"M0 0h24v24H0V0z\" fill=\"none\"/>\n",
       "    <path d=\"M18.56 5.44l.94 2.06.94-2.06 2.06-.94-2.06-.94-.94-2.06-.94 2.06-2.06.94zm-11 1L8.5 8.5l.94-2.06 2.06-.94-2.06-.94L8.5 2.5l-.94 2.06-2.06.94zm10 10l.94 2.06.94-2.06 2.06-.94-2.06-.94-.94-2.06-.94 2.06-2.06.94z\"/><path d=\"M17.41 7.96l-1.37-1.37c-.4-.4-.92-.59-1.43-.59-.52 0-1.04.2-1.43.59L10.3 9.45l-7.72 7.72c-.78.78-.78 2.05 0 2.83L4 21.41c.39.39.9.59 1.41.59.51 0 1.02-.2 1.41-.59l7.78-7.78 2.81-2.81c.8-.78.8-2.07 0-2.86zM5.41 20L4 18.59l7.72-7.72 1.47 1.35L5.41 20z\"/>\n",
       "  </svg>\n",
       "      </button>\n",
       "      \n",
       "  <style>\n",
       "    .colab-df-container {\n",
       "      display:flex;\n",
       "      flex-wrap:wrap;\n",
       "      gap: 12px;\n",
       "    }\n",
       "\n",
       "    .colab-df-convert {\n",
       "      background-color: #E8F0FE;\n",
       "      border: none;\n",
       "      border-radius: 50%;\n",
       "      cursor: pointer;\n",
       "      display: none;\n",
       "      fill: #1967D2;\n",
       "      height: 32px;\n",
       "      padding: 0 0 0 0;\n",
       "      width: 32px;\n",
       "    }\n",
       "\n",
       "    .colab-df-convert:hover {\n",
       "      background-color: #E2EBFA;\n",
       "      box-shadow: 0px 1px 2px rgba(60, 64, 67, 0.3), 0px 1px 3px 1px rgba(60, 64, 67, 0.15);\n",
       "      fill: #174EA6;\n",
       "    }\n",
       "\n",
       "    [theme=dark] .colab-df-convert {\n",
       "      background-color: #3B4455;\n",
       "      fill: #D2E3FC;\n",
       "    }\n",
       "\n",
       "    [theme=dark] .colab-df-convert:hover {\n",
       "      background-color: #434B5C;\n",
       "      box-shadow: 0px 1px 3px 1px rgba(0, 0, 0, 0.15);\n",
       "      filter: drop-shadow(0px 1px 2px rgba(0, 0, 0, 0.3));\n",
       "      fill: #FFFFFF;\n",
       "    }\n",
       "  </style>\n",
       "\n",
       "      <script>\n",
       "        const buttonEl =\n",
       "          document.querySelector('#df-46567fce-fcec-467e-a07e-b2f1f296efa8 button.colab-df-convert');\n",
       "        buttonEl.style.display =\n",
       "          google.colab.kernel.accessAllowed ? 'block' : 'none';\n",
       "\n",
       "        async function convertToInteractive(key) {\n",
       "          const element = document.querySelector('#df-46567fce-fcec-467e-a07e-b2f1f296efa8');\n",
       "          const dataTable =\n",
       "            await google.colab.kernel.invokeFunction('convertToInteractive',\n",
       "                                                     [key], {});\n",
       "          if (!dataTable) return;\n",
       "\n",
       "          const docLinkHtml = 'Like what you see? Visit the ' +\n",
       "            '<a target=\"_blank\" href=https://colab.research.google.com/notebooks/data_table.ipynb>data table notebook</a>'\n",
       "            + ' to learn more about interactive tables.';\n",
       "          element.innerHTML = '';\n",
       "          dataTable['output_type'] = 'display_data';\n",
       "          await google.colab.output.renderOutput(dataTable, element);\n",
       "          const docLink = document.createElement('div');\n",
       "          docLink.innerHTML = docLinkHtml;\n",
       "          element.appendChild(docLink);\n",
       "        }\n",
       "      </script>\n",
       "    </div>\n",
       "  </div>\n",
       "  "
      ],
      "text/plain": [
       "         word     freq\n",
       "0          nt  4396854\n",
       "1       harry  3991215\n",
       "2        said  2262083\n",
       "3       would  1903195\n",
       "4    hermione  1827016\n",
       "..        ...      ...\n",
       "995  umbridge    41609\n",
       "996    unless    41508\n",
       "997      shop    41435\n",
       "998     tight    41321\n",
       "999      huge    41274\n",
       "\n",
       "[1000 rows x 2 columns]"
      ]
     },
     "execution_count": 21,
     "metadata": {},
     "output_type": "execute_result"
    }
   ],
   "source": [
    "df_freq = pd.DataFrame({'word': vec.get_feature_names_out(), 'freq': np.array(bow.sum(axis=0)).squeeze(0)})\n",
    "df_freq = df_freq.sort_values(by='freq', ascending=False).iloc[:1000].reset_index(drop=True)\n",
    "df_freq"
   ]
  },
  {
   "cell_type": "code",
   "execution_count": 4,
   "metadata": {
    "colab": {
     "base_uri": "https://localhost:8080/",
     "height": 676
    },
    "id": "SkIAmAMzJP5u",
    "outputId": "fed4b9f7-e8e9-482b-db09-a999780f9cf1"
   },
   "outputs": [
    {
     "data": {
      "text/html": [
       "\n",
       "  <div id=\"df-32043616-960e-416a-a396-f928d009e786\">\n",
       "    <div class=\"colab-df-container\">\n",
       "      <div>\n",
       "<style scoped>\n",
       "    .dataframe tbody tr th:only-of-type {\n",
       "        vertical-align: middle;\n",
       "    }\n",
       "\n",
       "    .dataframe tbody tr th {\n",
       "        vertical-align: top;\n",
       "    }\n",
       "\n",
       "    .dataframe thead th {\n",
       "        text-align: right;\n",
       "    }\n",
       "</style>\n",
       "<table border=\"1\" class=\"dataframe\">\n",
       "  <thead>\n",
       "    <tr style=\"text-align: right;\">\n",
       "      <th></th>\n",
       "      <th>word</th>\n",
       "      <th>freq</th>\n",
       "    </tr>\n",
       "  </thead>\n",
       "  <tbody>\n",
       "    <tr>\n",
       "      <th>0</th>\n",
       "      <td>nt</td>\n",
       "      <td>4396854</td>\n",
       "    </tr>\n",
       "    <tr>\n",
       "      <th>1</th>\n",
       "      <td>harry</td>\n",
       "      <td>3991215</td>\n",
       "    </tr>\n",
       "    <tr>\n",
       "      <th>2</th>\n",
       "      <td>said</td>\n",
       "      <td>2262083</td>\n",
       "    </tr>\n",
       "    <tr>\n",
       "      <th>3</th>\n",
       "      <td>would</td>\n",
       "      <td>1903195</td>\n",
       "    </tr>\n",
       "    <tr>\n",
       "      <th>4</th>\n",
       "      <td>hermione</td>\n",
       "      <td>1827016</td>\n",
       "    </tr>\n",
       "    <tr>\n",
       "      <th>5</th>\n",
       "      <td>could</td>\n",
       "      <td>1687870</td>\n",
       "    </tr>\n",
       "    <tr>\n",
       "      <th>6</th>\n",
       "      <td>back</td>\n",
       "      <td>1396466</td>\n",
       "    </tr>\n",
       "    <tr>\n",
       "      <th>7</th>\n",
       "      <td>draco</td>\n",
       "      <td>1386279</td>\n",
       "    </tr>\n",
       "    <tr>\n",
       "      <th>8</th>\n",
       "      <td>one</td>\n",
       "      <td>1376341</td>\n",
       "    </tr>\n",
       "    <tr>\n",
       "      <th>9</th>\n",
       "      <td>like</td>\n",
       "      <td>1256577</td>\n",
       "    </tr>\n",
       "    <tr>\n",
       "      <th>10</th>\n",
       "      <td>know</td>\n",
       "      <td>1179050</td>\n",
       "    </tr>\n",
       "    <tr>\n",
       "      <th>11</th>\n",
       "      <td>eyes</td>\n",
       "      <td>1032507</td>\n",
       "    </tr>\n",
       "    <tr>\n",
       "      <th>12</th>\n",
       "      <td>time</td>\n",
       "      <td>1005224</td>\n",
       "    </tr>\n",
       "    <tr>\n",
       "      <th>13</th>\n",
       "      <td>ron</td>\n",
       "      <td>904193</td>\n",
       "    </tr>\n",
       "    <tr>\n",
       "      <th>14</th>\n",
       "      <td>looked</td>\n",
       "      <td>893362</td>\n",
       "    </tr>\n",
       "    <tr>\n",
       "      <th>15</th>\n",
       "      <td>get</td>\n",
       "      <td>846363</td>\n",
       "    </tr>\n",
       "    <tr>\n",
       "      <th>16</th>\n",
       "      <td>asked</td>\n",
       "      <td>826351</td>\n",
       "    </tr>\n",
       "    <tr>\n",
       "      <th>17</th>\n",
       "      <td>well</td>\n",
       "      <td>783933</td>\n",
       "    </tr>\n",
       "    <tr>\n",
       "      <th>18</th>\n",
       "      <td>even</td>\n",
       "      <td>769716</td>\n",
       "    </tr>\n",
       "    <tr>\n",
       "      <th>19</th>\n",
       "      <td>around</td>\n",
       "      <td>767194</td>\n",
       "    </tr>\n",
       "  </tbody>\n",
       "</table>\n",
       "</div>\n",
       "      <button class=\"colab-df-convert\" onclick=\"convertToInteractive('df-32043616-960e-416a-a396-f928d009e786')\"\n",
       "              title=\"Convert this dataframe to an interactive table.\"\n",
       "              style=\"display:none;\">\n",
       "        \n",
       "  <svg xmlns=\"http://www.w3.org/2000/svg\" height=\"24px\"viewBox=\"0 0 24 24\"\n",
       "       width=\"24px\">\n",
       "    <path d=\"M0 0h24v24H0V0z\" fill=\"none\"/>\n",
       "    <path d=\"M18.56 5.44l.94 2.06.94-2.06 2.06-.94-2.06-.94-.94-2.06-.94 2.06-2.06.94zm-11 1L8.5 8.5l.94-2.06 2.06-.94-2.06-.94L8.5 2.5l-.94 2.06-2.06.94zm10 10l.94 2.06.94-2.06 2.06-.94-2.06-.94-.94-2.06-.94 2.06-2.06.94z\"/><path d=\"M17.41 7.96l-1.37-1.37c-.4-.4-.92-.59-1.43-.59-.52 0-1.04.2-1.43.59L10.3 9.45l-7.72 7.72c-.78.78-.78 2.05 0 2.83L4 21.41c.39.39.9.59 1.41.59.51 0 1.02-.2 1.41-.59l7.78-7.78 2.81-2.81c.8-.78.8-2.07 0-2.86zM5.41 20L4 18.59l7.72-7.72 1.47 1.35L5.41 20z\"/>\n",
       "  </svg>\n",
       "      </button>\n",
       "      \n",
       "  <style>\n",
       "    .colab-df-container {\n",
       "      display:flex;\n",
       "      flex-wrap:wrap;\n",
       "      gap: 12px;\n",
       "    }\n",
       "\n",
       "    .colab-df-convert {\n",
       "      background-color: #E8F0FE;\n",
       "      border: none;\n",
       "      border-radius: 50%;\n",
       "      cursor: pointer;\n",
       "      display: none;\n",
       "      fill: #1967D2;\n",
       "      height: 32px;\n",
       "      padding: 0 0 0 0;\n",
       "      width: 32px;\n",
       "    }\n",
       "\n",
       "    .colab-df-convert:hover {\n",
       "      background-color: #E2EBFA;\n",
       "      box-shadow: 0px 1px 2px rgba(60, 64, 67, 0.3), 0px 1px 3px 1px rgba(60, 64, 67, 0.15);\n",
       "      fill: #174EA6;\n",
       "    }\n",
       "\n",
       "    [theme=dark] .colab-df-convert {\n",
       "      background-color: #3B4455;\n",
       "      fill: #D2E3FC;\n",
       "    }\n",
       "\n",
       "    [theme=dark] .colab-df-convert:hover {\n",
       "      background-color: #434B5C;\n",
       "      box-shadow: 0px 1px 3px 1px rgba(0, 0, 0, 0.15);\n",
       "      filter: drop-shadow(0px 1px 2px rgba(0, 0, 0, 0.3));\n",
       "      fill: #FFFFFF;\n",
       "    }\n",
       "  </style>\n",
       "\n",
       "      <script>\n",
       "        const buttonEl =\n",
       "          document.querySelector('#df-32043616-960e-416a-a396-f928d009e786 button.colab-df-convert');\n",
       "        buttonEl.style.display =\n",
       "          google.colab.kernel.accessAllowed ? 'block' : 'none';\n",
       "\n",
       "        async function convertToInteractive(key) {\n",
       "          const element = document.querySelector('#df-32043616-960e-416a-a396-f928d009e786');\n",
       "          const dataTable =\n",
       "            await google.colab.kernel.invokeFunction('convertToInteractive',\n",
       "                                                     [key], {});\n",
       "          if (!dataTable) return;\n",
       "\n",
       "          const docLinkHtml = 'Like what you see? Visit the ' +\n",
       "            '<a target=\"_blank\" href=https://colab.research.google.com/notebooks/data_table.ipynb>data table notebook</a>'\n",
       "            + ' to learn more about interactive tables.';\n",
       "          element.innerHTML = '';\n",
       "          dataTable['output_type'] = 'display_data';\n",
       "          await google.colab.output.renderOutput(dataTable, element);\n",
       "          const docLink = document.createElement('div');\n",
       "          docLink.innerHTML = docLinkHtml;\n",
       "          element.appendChild(docLink);\n",
       "        }\n",
       "      </script>\n",
       "    </div>\n",
       "  </div>\n",
       "  "
      ],
      "text/plain": [
       "        word     freq\n",
       "0         nt  4396854\n",
       "1      harry  3991215\n",
       "2       said  2262083\n",
       "3      would  1903195\n",
       "4   hermione  1827016\n",
       "5      could  1687870\n",
       "6       back  1396466\n",
       "7      draco  1386279\n",
       "8        one  1376341\n",
       "9       like  1256577\n",
       "10      know  1179050\n",
       "11      eyes  1032507\n",
       "12      time  1005224\n",
       "13       ron   904193\n",
       "14    looked   893362\n",
       "15       get   846363\n",
       "16     asked   826351\n",
       "17      well   783933\n",
       "18      even   769716\n",
       "19    around   767194"
      ]
     },
     "execution_count": 4,
     "metadata": {},
     "output_type": "execute_result"
    }
   ],
   "source": [
    "df_freq.head(20)"
   ]
  },
  {
   "cell_type": "code",
   "execution_count": null,
   "metadata": {
    "colab": {
     "base_uri": "https://localhost:8080/",
     "height": 17
    },
    "id": "krlRnpLRI6kL",
    "outputId": "0426b3bc-085a-450c-ee1f-058a876db9e2"
   },
   "outputs": [
    {
     "data": {
      "application/javascript": [
       "\n",
       "    async function download(id, filename, size) {\n",
       "      if (!google.colab.kernel.accessAllowed) {\n",
       "        return;\n",
       "      }\n",
       "      const div = document.createElement('div');\n",
       "      const label = document.createElement('label');\n",
       "      label.textContent = `Downloading \"${filename}\": `;\n",
       "      div.appendChild(label);\n",
       "      const progress = document.createElement('progress');\n",
       "      progress.max = size;\n",
       "      div.appendChild(progress);\n",
       "      document.body.appendChild(div);\n",
       "\n",
       "      const buffers = [];\n",
       "      let downloaded = 0;\n",
       "\n",
       "      const channel = await google.colab.kernel.comms.open(id);\n",
       "      // Send a message to notify the kernel that we're ready.\n",
       "      channel.send({})\n",
       "\n",
       "      for await (const message of channel.messages) {\n",
       "        // Send a message to notify the kernel that we're ready.\n",
       "        channel.send({})\n",
       "        if (message.buffers) {\n",
       "          for (const buffer of message.buffers) {\n",
       "            buffers.push(buffer);\n",
       "            downloaded += buffer.byteLength;\n",
       "            progress.value = downloaded;\n",
       "          }\n",
       "        }\n",
       "      }\n",
       "      const blob = new Blob(buffers, {type: 'application/binary'});\n",
       "      const a = document.createElement('a');\n",
       "      a.href = window.URL.createObjectURL(blob);\n",
       "      a.download = filename;\n",
       "      div.appendChild(a);\n",
       "      a.click();\n",
       "      div.remove();\n",
       "    }\n",
       "  "
      ],
      "text/plain": [
       "<IPython.core.display.Javascript object>"
      ]
     },
     "metadata": {},
     "output_type": "display_data"
    },
    {
     "data": {
      "application/javascript": [
       "download(\"download_aa4cae1f-87d2-4b27-b2d0-7c0e01c83e2e\", \"hpac_top1k_fix.csv\", 16893)"
      ],
      "text/plain": [
       "<IPython.core.display.Javascript object>"
      ]
     },
     "metadata": {},
     "output_type": "display_data"
    }
   ],
   "source": [
    "df_freq.to_csv('hpac_top1k_fix.csv')  # сохраним результаты п. 1.1 задания\n",
    "files.download('/content/hpac_top1k_fix.csv') "
   ]
  },
  {
   "cell_type": "markdown",
   "metadata": {
    "id": "pjqdOwWU2BnX"
   },
   "source": [
    "\n",
    "## Часть 2. [2 балла] Модели представления слов \n",
    "Обучите модель представления слов (word2vec, GloVe, fastText или любую другую) на материале корпуса HPAC.\n",
    "1. Продемонстрируйте, как работает поиск синонимов, ассоциаций, лишних слов в обученной модели. \n",
    "2. Визуализируйте топ-1000 слов по частоте без учета стоп-слов (п. 1.1) с помощью TSNE или UMAP (https://umap-learn.readthedocs.io)."
   ]
  },
  {
   "cell_type": "markdown",
   "metadata": {
    "id": "PtDLg_9DNbhv"
   },
   "source": [
    "### 2.1"
   ]
  },
  {
   "cell_type": "code",
   "execution_count": null,
   "metadata": {
    "id": "QuOu3AM96ZTo"
   },
   "outputs": [],
   "source": [
    "def clear_text(txt, f_id, dir, stop_w=stop, rm_stop=True):\n",
    "    \"\"\"Функция создания файла, содержащего весь корпус в обработанном виде.\"\"\"\n",
    "    txt = re.sub('/n', '', txt)  # предобработка, фактически, не изменилась.\n",
    "    txt = re.sub('[^a-zA-Z\\s]', '', txt)\n",
    "    # приводим к нижнему регистру и разбиваем на слова по символу пробела\n",
    "    txt = txt.lower().split()\n",
    "    if rm_stop: # убираем стоп-слова\n",
    "        words = [w for w in txt if not w in stop_w]\n",
    "    with open(os.path.join(dir, 'corp.txt'), 'a') as f:  \n",
    "      f.write(' '.join(words) + '\\n')  # пишем очередную строку в файл"
   ]
  },
  {
   "cell_type": "code",
   "execution_count": null,
   "metadata": {
    "id": "gSDLLIIVQ3-5"
   },
   "outputs": [],
   "source": [
    "class MyCorpus:\n",
    "    \"\"\"Класс итератора, который выдает предложения как список строк.\"\"\"\n",
    "\n",
    "    def __init__(self, path):\n",
    "      self.path = path  # путь до нашего файла\n",
    "\n",
    "    def __iter__(self):\n",
    "        corpus_path = datapath(self.path)\n",
    "        for line in open(corpus_path):\n",
    "            yield line.split()  # считываем строчку и деим по пробелам"
   ]
  },
  {
   "cell_type": "markdown",
   "metadata": {
    "id": "xPu8-SpaGp22"
   },
   "source": [
    "Теперь после всей предварительной работы можем обучить нашу модель word2vec из gensim."
   ]
  },
  {
   "cell_type": "code",
   "execution_count": null,
   "metadata": {
    "id": "uDLqJbRD_Fs_"
   },
   "outputs": [],
   "source": [
    "sentences = MyCorpus(os.path.join(os.getcwd(), 'corp.txt'))\n",
    "model = word2vec.Word2Vec(sentences=sentences, workers=4, \n",
    "                          vector_size=250, min_count=12, window=4)"
   ]
  },
  {
   "cell_type": "code",
   "execution_count": null,
   "metadata": {
    "colab": {
     "base_uri": "https://localhost:8080/"
    },
    "id": "Oj0mHbA1B8J1",
    "outputId": "9ed56322-ccba-4da3-96f1-2f159c6cc1e3"
   },
   "outputs": [
    {
     "data": {
      "text/plain": [
       "84311"
      ]
     },
     "execution_count": 71,
     "metadata": {},
     "output_type": "execute_result"
    }
   ],
   "source": [
    "len(model.wv)  # количество слов в словаре модели (мы выкинули все, которые встречаются < 12 раз)"
   ]
  },
  {
   "cell_type": "code",
   "execution_count": null,
   "metadata": {
    "colab": {
     "base_uri": "https://localhost:8080/",
     "height": 424
    },
    "id": "M7bKqcnd_Fqf",
    "outputId": "1cfe8a12-c762-4a1b-ad8b-a3aebb47b1a2"
   },
   "outputs": [
    {
     "data": {
      "text/html": [
       "\n",
       "  <div id=\"df-d4d3cc2e-81a0-44f0-aa68-e16a9a8edc1d\">\n",
       "    <div class=\"colab-df-container\">\n",
       "      <div>\n",
       "<style scoped>\n",
       "    .dataframe tbody tr th:only-of-type {\n",
       "        vertical-align: middle;\n",
       "    }\n",
       "\n",
       "    .dataframe tbody tr th {\n",
       "        vertical-align: top;\n",
       "    }\n",
       "\n",
       "    .dataframe thead th {\n",
       "        text-align: right;\n",
       "    }\n",
       "</style>\n",
       "<table border=\"1\" class=\"dataframe\">\n",
       "  <thead>\n",
       "    <tr style=\"text-align: right;\">\n",
       "      <th></th>\n",
       "      <th>word</th>\n",
       "    </tr>\n",
       "  </thead>\n",
       "  <tbody>\n",
       "    <tr>\n",
       "      <th>0</th>\n",
       "      <td>nt</td>\n",
       "    </tr>\n",
       "    <tr>\n",
       "      <th>1</th>\n",
       "      <td>harry</td>\n",
       "    </tr>\n",
       "    <tr>\n",
       "      <th>2</th>\n",
       "      <td>said</td>\n",
       "    </tr>\n",
       "    <tr>\n",
       "      <th>3</th>\n",
       "      <td>would</td>\n",
       "    </tr>\n",
       "    <tr>\n",
       "      <th>4</th>\n",
       "      <td>hermione</td>\n",
       "    </tr>\n",
       "    <tr>\n",
       "      <th>...</th>\n",
       "      <td>...</td>\n",
       "    </tr>\n",
       "    <tr>\n",
       "      <th>995</th>\n",
       "      <td>umbridge</td>\n",
       "    </tr>\n",
       "    <tr>\n",
       "      <th>996</th>\n",
       "      <td>unless</td>\n",
       "    </tr>\n",
       "    <tr>\n",
       "      <th>997</th>\n",
       "      <td>shop</td>\n",
       "    </tr>\n",
       "    <tr>\n",
       "      <th>998</th>\n",
       "      <td>tight</td>\n",
       "    </tr>\n",
       "    <tr>\n",
       "      <th>999</th>\n",
       "      <td>huge</td>\n",
       "    </tr>\n",
       "  </tbody>\n",
       "</table>\n",
       "<p>1000 rows × 1 columns</p>\n",
       "</div>\n",
       "      <button class=\"colab-df-convert\" onclick=\"convertToInteractive('df-d4d3cc2e-81a0-44f0-aa68-e16a9a8edc1d')\"\n",
       "              title=\"Convert this dataframe to an interactive table.\"\n",
       "              style=\"display:none;\">\n",
       "        \n",
       "  <svg xmlns=\"http://www.w3.org/2000/svg\" height=\"24px\"viewBox=\"0 0 24 24\"\n",
       "       width=\"24px\">\n",
       "    <path d=\"M0 0h24v24H0V0z\" fill=\"none\"/>\n",
       "    <path d=\"M18.56 5.44l.94 2.06.94-2.06 2.06-.94-2.06-.94-.94-2.06-.94 2.06-2.06.94zm-11 1L8.5 8.5l.94-2.06 2.06-.94-2.06-.94L8.5 2.5l-.94 2.06-2.06.94zm10 10l.94 2.06.94-2.06 2.06-.94-2.06-.94-.94-2.06-.94 2.06-2.06.94z\"/><path d=\"M17.41 7.96l-1.37-1.37c-.4-.4-.92-.59-1.43-.59-.52 0-1.04.2-1.43.59L10.3 9.45l-7.72 7.72c-.78.78-.78 2.05 0 2.83L4 21.41c.39.39.9.59 1.41.59.51 0 1.02-.2 1.41-.59l7.78-7.78 2.81-2.81c.8-.78.8-2.07 0-2.86zM5.41 20L4 18.59l7.72-7.72 1.47 1.35L5.41 20z\"/>\n",
       "  </svg>\n",
       "      </button>\n",
       "      \n",
       "  <style>\n",
       "    .colab-df-container {\n",
       "      display:flex;\n",
       "      flex-wrap:wrap;\n",
       "      gap: 12px;\n",
       "    }\n",
       "\n",
       "    .colab-df-convert {\n",
       "      background-color: #E8F0FE;\n",
       "      border: none;\n",
       "      border-radius: 50%;\n",
       "      cursor: pointer;\n",
       "      display: none;\n",
       "      fill: #1967D2;\n",
       "      height: 32px;\n",
       "      padding: 0 0 0 0;\n",
       "      width: 32px;\n",
       "    }\n",
       "\n",
       "    .colab-df-convert:hover {\n",
       "      background-color: #E2EBFA;\n",
       "      box-shadow: 0px 1px 2px rgba(60, 64, 67, 0.3), 0px 1px 3px 1px rgba(60, 64, 67, 0.15);\n",
       "      fill: #174EA6;\n",
       "    }\n",
       "\n",
       "    [theme=dark] .colab-df-convert {\n",
       "      background-color: #3B4455;\n",
       "      fill: #D2E3FC;\n",
       "    }\n",
       "\n",
       "    [theme=dark] .colab-df-convert:hover {\n",
       "      background-color: #434B5C;\n",
       "      box-shadow: 0px 1px 3px 1px rgba(0, 0, 0, 0.15);\n",
       "      filter: drop-shadow(0px 1px 2px rgba(0, 0, 0, 0.3));\n",
       "      fill: #FFFFFF;\n",
       "    }\n",
       "  </style>\n",
       "\n",
       "      <script>\n",
       "        const buttonEl =\n",
       "          document.querySelector('#df-d4d3cc2e-81a0-44f0-aa68-e16a9a8edc1d button.colab-df-convert');\n",
       "        buttonEl.style.display =\n",
       "          google.colab.kernel.accessAllowed ? 'block' : 'none';\n",
       "\n",
       "        async function convertToInteractive(key) {\n",
       "          const element = document.querySelector('#df-d4d3cc2e-81a0-44f0-aa68-e16a9a8edc1d');\n",
       "          const dataTable =\n",
       "            await google.colab.kernel.invokeFunction('convertToInteractive',\n",
       "                                                     [key], {});\n",
       "          if (!dataTable) return;\n",
       "\n",
       "          const docLinkHtml = 'Like what you see? Visit the ' +\n",
       "            '<a target=\"_blank\" href=https://colab.research.google.com/notebooks/data_table.ipynb>data table notebook</a>'\n",
       "            + ' to learn more about interactive tables.';\n",
       "          element.innerHTML = '';\n",
       "          dataTable['output_type'] = 'display_data';\n",
       "          await google.colab.output.renderOutput(dataTable, element);\n",
       "          const docLink = document.createElement('div');\n",
       "          docLink.innerHTML = docLinkHtml;\n",
       "          element.appendChild(docLink);\n",
       "        }\n",
       "      </script>\n",
       "    </div>\n",
       "  </div>\n",
       "  "
      ],
      "text/plain": [
       "         word\n",
       "0          nt\n",
       "1       harry\n",
       "2        said\n",
       "3       would\n",
       "4    hermione\n",
       "..        ...\n",
       "995  umbridge\n",
       "996    unless\n",
       "997      shop\n",
       "998     tight\n",
       "999      huge\n",
       "\n",
       "[1000 rows x 1 columns]"
      ]
     },
     "execution_count": 82,
     "metadata": {},
     "output_type": "execute_result"
    }
   ],
   "source": [
    "w2v_freq_df = pd.DataFrame(model.wv.key_to_index.keys(), \n",
    "                           columns=['word'])[:1000]\n",
    "w2v_freq_df  # это вспомогательный датафрейм для проверки корректности решения п. 1.1"
   ]
  },
  {
   "cell_type": "code",
   "execution_count": null,
   "metadata": {
    "colab": {
     "base_uri": "https://localhost:8080/"
    },
    "id": "oZ1xnEnpEgRk",
    "outputId": "d2d8e088-bdf1-4f8b-9e84-f5640b16fced"
   },
   "outputs": [
    {
     "data": {
      "text/plain": [
       "998"
      ]
     },
     "execution_count": 83,
     "metadata": {},
     "output_type": "execute_result"
    }
   ],
   "source": [
    "(w2v_freq_df.word == df_freq.word).sum()"
   ]
  },
  {
   "cell_type": "code",
   "execution_count": null,
   "metadata": {
    "colab": {
     "base_uri": "https://localhost:8080/"
    },
    "id": "dK5bA1ap_FlF",
    "outputId": "7ddeba0f-9dfe-49b4-9f91-1f84bf1b5310"
   },
   "outputs": [
    {
     "data": {
      "text/plain": [
       "True"
      ]
     },
     "execution_count": 23,
     "metadata": {},
     "output_type": "execute_result"
    }
   ],
   "source": [
    "'muggle' in model.wv.key_to_index "
   ]
  },
  {
   "cell_type": "markdown",
   "metadata": {
    "id": "s7M2qOYHH6Iz"
   },
   "source": [
    "Покажем, как работает поиск синонимов, ассоциаций и лишних слов в нашей модели."
   ]
  },
  {
   "cell_type": "code",
   "execution_count": null,
   "metadata": {
    "colab": {
     "base_uri": "https://localhost:8080/"
    },
    "id": "m7Ip749T2BNw",
    "outputId": "b080c4d7-5561-4473-e065-7beed2d544f8"
   },
   "outputs": [
    {
     "name": "stdout",
     "output_type": "stream",
     "text": [
      "Synonyms:\n",
      "[('hermione', 0.7431302070617676), ('draco', 0.6963883638381958), ('ginny', 0.6807665824890137)]\n",
      "[('witch', 0.692665696144104), ('man', 0.648740828037262), ('wizards', 0.6444472670555115)]\n",
      "[('spells', 0.7912835478782654), ('charm', 0.7791950702667236), ('counterspell', 0.7685550451278687)]\n",
      "Analogies:\n",
      "[('hermione', 0.8361391425132751), ('ginny', 0.809330403804779)]\n",
      "[('mcgonagall', 0.717517614364624), ('minerva', 0.6930954456329346)]\n",
      "[('witch', 0.809012770652771), ('wizards', 0.5605471134185791)]\n",
      "[('hogwarts', 0.5735276341438293), ('magics', 0.4711984395980835)]\n",
      "Doesn't match:\n",
      "magic spell wizard ron => Extra word: ron\n",
      "voldemort draco snape stick => Extra word: stick\n",
      "voldemort draco snape vernon => Extra word: vernon\n"
     ]
    }
   ],
   "source": [
    "print('Synonyms:')\n",
    "print(model.wv.most_similar('harry', topn=3))\n",
    "print(model.wv.most_similar('wizard', topn=3))\n",
    "print(model.wv.most_similar('spell', topn=3))\n",
    "\n",
    "print('Analogies:')\n",
    "print(model.wv.most_similar(positive=['harry', 'girl'], negative=['boy'], topn=2))\n",
    "print(model.wv.most_similar(positive=['dumbledore', 'woman'], negative=['man'], topn=2))\n",
    "print(model.wv.most_similar(positive=['wizard', 'woman'], negative=['man'], topn=2))\n",
    "print(model.wv.most_similar(positive=['school', 'magic'], negative=['ordinary'], topn=2))\n",
    "\n",
    "print('Doesn\\'t match:')\n",
    "print('magic spell wizard ron => Extra word:', \n",
    "      model.wv.doesnt_match('magic spell wizard ron'.split()))\n",
    "print('voldemort draco snape stick => Extra word:', \n",
    "      model.wv.doesnt_match('voldemort draco snape stick'.split()))\n",
    "print('voldemort draco snape vernon => Extra word:', \n",
    "      model.wv.doesnt_match('voldemort draco snape vernon'.split()))"
   ]
  },
  {
   "cell_type": "code",
   "execution_count": null,
   "metadata": {
    "colab": {
     "base_uri": "https://localhost:8080/"
    },
    "id": "-KQMNJcuzW5d",
    "outputId": "312d9278-acc3-4cd7-ddd3-50037d23f0ff"
   },
   "outputs": [
    {
     "name": "stdout",
     "output_type": "stream",
     "text": [
      "Analogies:\n",
      "[('hogwarts', 0.7566561698913574)]\n"
     ]
    }
   ],
   "source": [
    "print('One more great analogy:')\n",
    "print(model.wv.most_similar(positive=['azkaban', 'school'], negative=['prison'], topn=1))"
   ]
  },
  {
   "cell_type": "markdown",
   "metadata": {
    "id": "LHQ_LNo3IF2D"
   },
   "source": [
    "По результатам выше можно сказать, что все результаты адекватны. Теперь сохраним нашу модель."
   ]
  },
  {
   "cell_type": "code",
   "execution_count": null,
   "metadata": {
    "colab": {
     "base_uri": "https://localhost:8080/"
    },
    "id": "bbA42gfisQSv",
    "outputId": "8b32db7c-ccfc-4900-c273-f82fbe25b453"
   },
   "outputs": [
    {
     "name": "stdout",
     "output_type": "stream",
     "text": [
      "Saving model...\n",
      "Successfully saved to /content/hpac_w2v.model!\n"
     ]
    }
   ],
   "source": [
    "path_mod = os.path.join(os.getcwd(), 'hpac_w2v.model')\n",
    "print(\"Saving model...\")\n",
    "model.save(path_mod)\n",
    "print(f'Successfully saved to {path_mod}!')"
   ]
  },
  {
   "cell_type": "code",
   "execution_count": null,
   "metadata": {
    "colab": {
     "base_uri": "https://localhost:8080/",
     "height": 17
    },
    "id": "6Ba2jElGrK-D",
    "outputId": "449707d1-6777-46f3-8be9-11c6ec00f555"
   },
   "outputs": [
    {
     "data": {
      "application/javascript": [
       "\n",
       "    async function download(id, filename, size) {\n",
       "      if (!google.colab.kernel.accessAllowed) {\n",
       "        return;\n",
       "      }\n",
       "      const div = document.createElement('div');\n",
       "      const label = document.createElement('label');\n",
       "      label.textContent = `Downloading \"${filename}\": `;\n",
       "      div.appendChild(label);\n",
       "      const progress = document.createElement('progress');\n",
       "      progress.max = size;\n",
       "      div.appendChild(progress);\n",
       "      document.body.appendChild(div);\n",
       "\n",
       "      const buffers = [];\n",
       "      let downloaded = 0;\n",
       "\n",
       "      const channel = await google.colab.kernel.comms.open(id);\n",
       "      // Send a message to notify the kernel that we're ready.\n",
       "      channel.send({})\n",
       "\n",
       "      for await (const message of channel.messages) {\n",
       "        // Send a message to notify the kernel that we're ready.\n",
       "        channel.send({})\n",
       "        if (message.buffers) {\n",
       "          for (const buffer of message.buffers) {\n",
       "            buffers.push(buffer);\n",
       "            downloaded += buffer.byteLength;\n",
       "            progress.value = downloaded;\n",
       "          }\n",
       "        }\n",
       "      }\n",
       "      const blob = new Blob(buffers, {type: 'application/binary'});\n",
       "      const a = document.createElement('a');\n",
       "      a.href = window.URL.createObjectURL(blob);\n",
       "      a.download = filename;\n",
       "      div.appendChild(a);\n",
       "      a.click();\n",
       "      div.remove();\n",
       "    }\n",
       "  "
      ],
      "text/plain": [
       "<IPython.core.display.Javascript object>"
      ]
     },
     "metadata": {},
     "output_type": "display_data"
    },
    {
     "data": {
      "application/javascript": [
       "download(\"download_caedfa3b-86ad-4320-bd74-d3cdbc5f4ae1\", \"hpac_w2v.model\", 2972521)"
      ],
      "text/plain": [
       "<IPython.core.display.Javascript object>"
      ]
     },
     "metadata": {},
     "output_type": "display_data"
    }
   ],
   "source": [
    "files.download(os.path.join(os.getcwd(), 'hpac_w2v.model')) \n",
    "files.download('/content/hpac_w2v.model.wv.vectors.npy')\n",
    "files.download('/content/hpac_w2v.model.syn1neg.npy')"
   ]
  },
  {
   "cell_type": "markdown",
   "metadata": {
    "id": "_zHVC_idNVjv"
   },
   "source": [
    "### 2.2"
   ]
  },
  {
   "cell_type": "markdown",
   "metadata": {
    "id": "zf1buVcZIYGz"
   },
   "source": [
    "Снова скачаем нашу модель и перейдем к визуализации."
   ]
  },
  {
   "cell_type": "code",
   "execution_count": null,
   "metadata": {
    "colab": {
     "base_uri": "https://localhost:8080/"
    },
    "id": "oRj40KhUrYXK",
    "outputId": "7291b9b9-a44e-4d71-fbb3-c010b284063d"
   },
   "outputs": [
    {
     "name": "stdout",
     "output_type": "stream",
     "text": [
      "Mounted at /content/drive\n"
     ]
    }
   ],
   "source": [
    "from google.colab import drive\n",
    "drive.mount('/content/drive')"
   ]
  },
  {
   "cell_type": "code",
   "execution_count": null,
   "metadata": {
    "id": "qvJHSN_jp-Pf"
   },
   "outputs": [],
   "source": [
    "!unzip -q /content/drive/MyDrive/Colab\\ Notebooks/NLP/w2v_model.zip -d /content/"
   ]
  },
  {
   "cell_type": "code",
   "execution_count": null,
   "metadata": {
    "id": "kTen-VVon145"
   },
   "outputs": [],
   "source": [
    "model = word2vec.Word2Vec.load('/content/hpac_w2v.model')"
   ]
  },
  {
   "cell_type": "code",
   "execution_count": null,
   "metadata": {
    "colab": {
     "base_uri": "https://localhost:8080/",
     "height": 206
    },
    "id": "1TqooPidNlr0",
    "outputId": "648341a6-8ccf-4c0f-91a4-35b8e73064dd"
   },
   "outputs": [
    {
     "data": {
      "text/html": [
       "\n",
       "  <div id=\"df-5726c7b7-6ad9-4ed7-86c9-bc2d0d0c214d\">\n",
       "    <div class=\"colab-df-container\">\n",
       "      <div>\n",
       "<style scoped>\n",
       "    .dataframe tbody tr th:only-of-type {\n",
       "        vertical-align: middle;\n",
       "    }\n",
       "\n",
       "    .dataframe tbody tr th {\n",
       "        vertical-align: top;\n",
       "    }\n",
       "\n",
       "    .dataframe thead th {\n",
       "        text-align: right;\n",
       "    }\n",
       "</style>\n",
       "<table border=\"1\" class=\"dataframe\">\n",
       "  <thead>\n",
       "    <tr style=\"text-align: right;\">\n",
       "      <th></th>\n",
       "      <th>word</th>\n",
       "      <th>freq</th>\n",
       "    </tr>\n",
       "  </thead>\n",
       "  <tbody>\n",
       "    <tr>\n",
       "      <th>830</th>\n",
       "      <td>soul</td>\n",
       "      <td>50714</td>\n",
       "    </tr>\n",
       "    <tr>\n",
       "      <th>450</th>\n",
       "      <td>speak</td>\n",
       "      <td>96696</td>\n",
       "    </tr>\n",
       "    <tr>\n",
       "      <th>42</th>\n",
       "      <td>two</td>\n",
       "      <td>562470</td>\n",
       "    </tr>\n",
       "    <tr>\n",
       "      <th>293</th>\n",
       "      <td>onto</td>\n",
       "      <td>143488</td>\n",
       "    </tr>\n",
       "    <tr>\n",
       "      <th>120</th>\n",
       "      <td>put</td>\n",
       "      <td>280582</td>\n",
       "    </tr>\n",
       "  </tbody>\n",
       "</table>\n",
       "</div>\n",
       "      <button class=\"colab-df-convert\" onclick=\"convertToInteractive('df-5726c7b7-6ad9-4ed7-86c9-bc2d0d0c214d')\"\n",
       "              title=\"Convert this dataframe to an interactive table.\"\n",
       "              style=\"display:none;\">\n",
       "        \n",
       "  <svg xmlns=\"http://www.w3.org/2000/svg\" height=\"24px\"viewBox=\"0 0 24 24\"\n",
       "       width=\"24px\">\n",
       "    <path d=\"M0 0h24v24H0V0z\" fill=\"none\"/>\n",
       "    <path d=\"M18.56 5.44l.94 2.06.94-2.06 2.06-.94-2.06-.94-.94-2.06-.94 2.06-2.06.94zm-11 1L8.5 8.5l.94-2.06 2.06-.94-2.06-.94L8.5 2.5l-.94 2.06-2.06.94zm10 10l.94 2.06.94-2.06 2.06-.94-2.06-.94-.94-2.06-.94 2.06-2.06.94z\"/><path d=\"M17.41 7.96l-1.37-1.37c-.4-.4-.92-.59-1.43-.59-.52 0-1.04.2-1.43.59L10.3 9.45l-7.72 7.72c-.78.78-.78 2.05 0 2.83L4 21.41c.39.39.9.59 1.41.59.51 0 1.02-.2 1.41-.59l7.78-7.78 2.81-2.81c.8-.78.8-2.07 0-2.86zM5.41 20L4 18.59l7.72-7.72 1.47 1.35L5.41 20z\"/>\n",
       "  </svg>\n",
       "      </button>\n",
       "      \n",
       "  <style>\n",
       "    .colab-df-container {\n",
       "      display:flex;\n",
       "      flex-wrap:wrap;\n",
       "      gap: 12px;\n",
       "    }\n",
       "\n",
       "    .colab-df-convert {\n",
       "      background-color: #E8F0FE;\n",
       "      border: none;\n",
       "      border-radius: 50%;\n",
       "      cursor: pointer;\n",
       "      display: none;\n",
       "      fill: #1967D2;\n",
       "      height: 32px;\n",
       "      padding: 0 0 0 0;\n",
       "      width: 32px;\n",
       "    }\n",
       "\n",
       "    .colab-df-convert:hover {\n",
       "      background-color: #E2EBFA;\n",
       "      box-shadow: 0px 1px 2px rgba(60, 64, 67, 0.3), 0px 1px 3px 1px rgba(60, 64, 67, 0.15);\n",
       "      fill: #174EA6;\n",
       "    }\n",
       "\n",
       "    [theme=dark] .colab-df-convert {\n",
       "      background-color: #3B4455;\n",
       "      fill: #D2E3FC;\n",
       "    }\n",
       "\n",
       "    [theme=dark] .colab-df-convert:hover {\n",
       "      background-color: #434B5C;\n",
       "      box-shadow: 0px 1px 3px 1px rgba(0, 0, 0, 0.15);\n",
       "      filter: drop-shadow(0px 1px 2px rgba(0, 0, 0, 0.3));\n",
       "      fill: #FFFFFF;\n",
       "    }\n",
       "  </style>\n",
       "\n",
       "      <script>\n",
       "        const buttonEl =\n",
       "          document.querySelector('#df-5726c7b7-6ad9-4ed7-86c9-bc2d0d0c214d button.colab-df-convert');\n",
       "        buttonEl.style.display =\n",
       "          google.colab.kernel.accessAllowed ? 'block' : 'none';\n",
       "\n",
       "        async function convertToInteractive(key) {\n",
       "          const element = document.querySelector('#df-5726c7b7-6ad9-4ed7-86c9-bc2d0d0c214d');\n",
       "          const dataTable =\n",
       "            await google.colab.kernel.invokeFunction('convertToInteractive',\n",
       "                                                     [key], {});\n",
       "          if (!dataTable) return;\n",
       "\n",
       "          const docLinkHtml = 'Like what you see? Visit the ' +\n",
       "            '<a target=\"_blank\" href=https://colab.research.google.com/notebooks/data_table.ipynb>data table notebook</a>'\n",
       "            + ' to learn more about interactive tables.';\n",
       "          element.innerHTML = '';\n",
       "          dataTable['output_type'] = 'display_data';\n",
       "          await google.colab.output.renderOutput(dataTable, element);\n",
       "          const docLink = document.createElement('div');\n",
       "          docLink.innerHTML = docLinkHtml;\n",
       "          element.appendChild(docLink);\n",
       "        }\n",
       "      </script>\n",
       "    </div>\n",
       "  </div>\n",
       "  "
      ],
      "text/plain": [
       "      word    freq\n",
       "830   soul   50714\n",
       "450  speak   96696\n",
       "42     two  562470\n",
       "293   onto  143488\n",
       "120    put  280582"
      ]
     },
     "execution_count": 50,
     "metadata": {},
     "output_type": "execute_result"
    }
   ],
   "source": [
    "df_freq.sample(5)"
   ]
  },
  {
   "cell_type": "code",
   "execution_count": null,
   "metadata": {
    "id": "aWUCGuYQNUgK"
   },
   "outputs": [],
   "source": [
    "  # отберем из словаря топ-слова по результатам п. 1.1 и получим из модели их эмбеддинги\n",
    "top_words = [w for w in df_freq.word if w in model.wv]\n",
    "top_words_vec = np.array([model.wv[w] for w in top_words])"
   ]
  },
  {
   "cell_type": "code",
   "execution_count": null,
   "metadata": {
    "id": "9lBfFFfkNwZs"
   },
   "outputs": [],
   "source": [
    "# исользуем tsne для получения низкоразмерных представлений\n",
    "tsne = TSNE(n_components=2, learning_rate='auto',\n",
    "            init='random', random_state=42)\n",
    "top_words_tsne = tsne.fit_transform(top_words_vec)"
   ]
  },
  {
   "cell_type": "code",
   "execution_count": null,
   "metadata": {
    "colab": {
     "base_uri": "https://localhost:8080/",
     "height": 424
    },
    "id": "QkDL0JTC6eb4",
    "outputId": "b7e887d5-1406-40c8-cd57-560f8e1650af"
   },
   "outputs": [
    {
     "data": {
      "text/html": [
       "\n",
       "  <div id=\"df-90cb29b1-0e2e-4d12-9d6d-cacf98cbdb66\">\n",
       "    <div class=\"colab-df-container\">\n",
       "      <div>\n",
       "<style scoped>\n",
       "    .dataframe tbody tr th:only-of-type {\n",
       "        vertical-align: middle;\n",
       "    }\n",
       "\n",
       "    .dataframe tbody tr th {\n",
       "        vertical-align: top;\n",
       "    }\n",
       "\n",
       "    .dataframe thead th {\n",
       "        text-align: right;\n",
       "    }\n",
       "</style>\n",
       "<table border=\"1\" class=\"dataframe\">\n",
       "  <thead>\n",
       "    <tr style=\"text-align: right;\">\n",
       "      <th></th>\n",
       "      <th>x</th>\n",
       "      <th>y</th>\n",
       "      <th>word</th>\n",
       "    </tr>\n",
       "  </thead>\n",
       "  <tbody>\n",
       "    <tr>\n",
       "      <th>0</th>\n",
       "      <td>3.901484</td>\n",
       "      <td>8.343550</td>\n",
       "      <td>nt</td>\n",
       "    </tr>\n",
       "    <tr>\n",
       "      <th>1</th>\n",
       "      <td>-20.104765</td>\n",
       "      <td>15.605262</td>\n",
       "      <td>harry</td>\n",
       "    </tr>\n",
       "    <tr>\n",
       "      <th>2</th>\n",
       "      <td>-29.642834</td>\n",
       "      <td>5.513092</td>\n",
       "      <td>said</td>\n",
       "    </tr>\n",
       "    <tr>\n",
       "      <th>3</th>\n",
       "      <td>7.964181</td>\n",
       "      <td>16.549751</td>\n",
       "      <td>would</td>\n",
       "    </tr>\n",
       "    <tr>\n",
       "      <th>4</th>\n",
       "      <td>-25.847094</td>\n",
       "      <td>19.560932</td>\n",
       "      <td>hermione</td>\n",
       "    </tr>\n",
       "    <tr>\n",
       "      <th>...</th>\n",
       "      <td>...</td>\n",
       "      <td>...</td>\n",
       "      <td>...</td>\n",
       "    </tr>\n",
       "    <tr>\n",
       "      <th>995</th>\n",
       "      <td>-20.010830</td>\n",
       "      <td>21.686295</td>\n",
       "      <td>umbridge</td>\n",
       "    </tr>\n",
       "    <tr>\n",
       "      <th>996</th>\n",
       "      <td>8.387957</td>\n",
       "      <td>6.505520</td>\n",
       "      <td>unless</td>\n",
       "    </tr>\n",
       "    <tr>\n",
       "      <th>997</th>\n",
       "      <td>35.565605</td>\n",
       "      <td>-22.470924</td>\n",
       "      <td>shop</td>\n",
       "    </tr>\n",
       "    <tr>\n",
       "      <th>998</th>\n",
       "      <td>-1.535295</td>\n",
       "      <td>-35.068943</td>\n",
       "      <td>tight</td>\n",
       "    </tr>\n",
       "    <tr>\n",
       "      <th>999</th>\n",
       "      <td>-5.871145</td>\n",
       "      <td>-21.882359</td>\n",
       "      <td>huge</td>\n",
       "    </tr>\n",
       "  </tbody>\n",
       "</table>\n",
       "<p>1000 rows × 3 columns</p>\n",
       "</div>\n",
       "      <button class=\"colab-df-convert\" onclick=\"convertToInteractive('df-90cb29b1-0e2e-4d12-9d6d-cacf98cbdb66')\"\n",
       "              title=\"Convert this dataframe to an interactive table.\"\n",
       "              style=\"display:none;\">\n",
       "        \n",
       "  <svg xmlns=\"http://www.w3.org/2000/svg\" height=\"24px\"viewBox=\"0 0 24 24\"\n",
       "       width=\"24px\">\n",
       "    <path d=\"M0 0h24v24H0V0z\" fill=\"none\"/>\n",
       "    <path d=\"M18.56 5.44l.94 2.06.94-2.06 2.06-.94-2.06-.94-.94-2.06-.94 2.06-2.06.94zm-11 1L8.5 8.5l.94-2.06 2.06-.94-2.06-.94L8.5 2.5l-.94 2.06-2.06.94zm10 10l.94 2.06.94-2.06 2.06-.94-2.06-.94-.94-2.06-.94 2.06-2.06.94z\"/><path d=\"M17.41 7.96l-1.37-1.37c-.4-.4-.92-.59-1.43-.59-.52 0-1.04.2-1.43.59L10.3 9.45l-7.72 7.72c-.78.78-.78 2.05 0 2.83L4 21.41c.39.39.9.59 1.41.59.51 0 1.02-.2 1.41-.59l7.78-7.78 2.81-2.81c.8-.78.8-2.07 0-2.86zM5.41 20L4 18.59l7.72-7.72 1.47 1.35L5.41 20z\"/>\n",
       "  </svg>\n",
       "      </button>\n",
       "      \n",
       "  <style>\n",
       "    .colab-df-container {\n",
       "      display:flex;\n",
       "      flex-wrap:wrap;\n",
       "      gap: 12px;\n",
       "    }\n",
       "\n",
       "    .colab-df-convert {\n",
       "      background-color: #E8F0FE;\n",
       "      border: none;\n",
       "      border-radius: 50%;\n",
       "      cursor: pointer;\n",
       "      display: none;\n",
       "      fill: #1967D2;\n",
       "      height: 32px;\n",
       "      padding: 0 0 0 0;\n",
       "      width: 32px;\n",
       "    }\n",
       "\n",
       "    .colab-df-convert:hover {\n",
       "      background-color: #E2EBFA;\n",
       "      box-shadow: 0px 1px 2px rgba(60, 64, 67, 0.3), 0px 1px 3px 1px rgba(60, 64, 67, 0.15);\n",
       "      fill: #174EA6;\n",
       "    }\n",
       "\n",
       "    [theme=dark] .colab-df-convert {\n",
       "      background-color: #3B4455;\n",
       "      fill: #D2E3FC;\n",
       "    }\n",
       "\n",
       "    [theme=dark] .colab-df-convert:hover {\n",
       "      background-color: #434B5C;\n",
       "      box-shadow: 0px 1px 3px 1px rgba(0, 0, 0, 0.15);\n",
       "      filter: drop-shadow(0px 1px 2px rgba(0, 0, 0, 0.3));\n",
       "      fill: #FFFFFF;\n",
       "    }\n",
       "  </style>\n",
       "\n",
       "      <script>\n",
       "        const buttonEl =\n",
       "          document.querySelector('#df-90cb29b1-0e2e-4d12-9d6d-cacf98cbdb66 button.colab-df-convert');\n",
       "        buttonEl.style.display =\n",
       "          google.colab.kernel.accessAllowed ? 'block' : 'none';\n",
       "\n",
       "        async function convertToInteractive(key) {\n",
       "          const element = document.querySelector('#df-90cb29b1-0e2e-4d12-9d6d-cacf98cbdb66');\n",
       "          const dataTable =\n",
       "            await google.colab.kernel.invokeFunction('convertToInteractive',\n",
       "                                                     [key], {});\n",
       "          if (!dataTable) return;\n",
       "\n",
       "          const docLinkHtml = 'Like what you see? Visit the ' +\n",
       "            '<a target=\"_blank\" href=https://colab.research.google.com/notebooks/data_table.ipynb>data table notebook</a>'\n",
       "            + ' to learn more about interactive tables.';\n",
       "          element.innerHTML = '';\n",
       "          dataTable['output_type'] = 'display_data';\n",
       "          await google.colab.output.renderOutput(dataTable, element);\n",
       "          const docLink = document.createElement('div');\n",
       "          docLink.innerHTML = docLinkHtml;\n",
       "          element.appendChild(docLink);\n",
       "        }\n",
       "      </script>\n",
       "    </div>\n",
       "  </div>\n",
       "  "
      ],
      "text/plain": [
       "             x          y      word\n",
       "0     3.901484   8.343550        nt\n",
       "1   -20.104765  15.605262     harry\n",
       "2   -29.642834   5.513092      said\n",
       "3     7.964181  16.549751     would\n",
       "4   -25.847094  19.560932  hermione\n",
       "..         ...        ...       ...\n",
       "995 -20.010830  21.686295  umbridge\n",
       "996   8.387957   6.505520    unless\n",
       "997  35.565605 -22.470924      shop\n",
       "998  -1.535295 -35.068943     tight\n",
       "999  -5.871145 -21.882359      huge\n",
       "\n",
       "[1000 rows x 3 columns]"
      ]
     },
     "execution_count": 71,
     "metadata": {},
     "output_type": "execute_result"
    }
   ],
   "source": [
    "df_tsne = pd.DataFrame(top_words_tsne, columns=['x', 'y'])\n",
    "df_tsne['word'] = top_words\n",
    "df_tsne"
   ]
  },
  {
   "cell_type": "code",
   "execution_count": null,
   "metadata": {
    "colab": {
     "base_uri": "https://localhost:8080/",
     "height": 617
    },
    "id": "bskOCS3k6bTD",
    "outputId": "8ecb4601-4db4-4514-d981-9a86f405890a"
   },
   "outputs": [
    {
     "data": {
      "text/html": [
       "<html>\n",
       "<head><meta charset=\"utf-8\" /></head>\n",
       "<body>\n",
       "    <div>            <script src=\"https://cdnjs.cloudflare.com/ajax/libs/mathjax/2.7.5/MathJax.js?config=TeX-AMS-MML_SVG\"></script><script type=\"text/javascript\">if (window.MathJax) {MathJax.Hub.Config({SVG: {font: \"STIX-Web\"}});}</script>                <script type=\"text/javascript\">window.PlotlyConfig = {MathJaxConfig: 'local'};</script>\n",
       "        <script src=\"https://cdn.plot.ly/plotly-2.8.3.min.js\"></script>                <div id=\"07c0c9ce-60bd-495b-a490-69c3bb5095af\" class=\"plotly-graph-div\" style=\"height:600px; width:900px;\"></div>            <script type=\"text/javascript\">                                    window.PLOTLYENV=window.PLOTLYENV || {};                                    if (document.getElementById(\"07c0c9ce-60bd-495b-a490-69c3bb5095af\")) {                    Plotly.newPlot(                        \"07c0c9ce-60bd-495b-a490-69c3bb5095af\",                        [{\"hovertemplate\":\"x=%{x}<br>y=%{y}<br>word=%{text}<extra></extra>\",\"legendgroup\":\"\",\"marker\":{\"color\":\"#636efa\",\"symbol\":\"circle\"},\"mode\":\"markers+text\",\"name\":\"\",\"orientation\":\"v\",\"showlegend\":false,\"text\":[\"nt\",\"harry\",\"said\",\"would\",\"hermione\",\"could\",\"back\",\"draco\",\"one\",\"like\",\"know\",\"eyes\",\"time\",\"ron\",\"looked\",\"get\",\"asked\",\"well\",\"even\",\"around\",\"see\",\"head\",\"going\",\"think\",\"still\",\"go\",\"severus\",\"face\",\"way\",\"room\",\"ginny\",\"hand\",\"sirius\",\"something\",\"want\",\"thought\",\"potter\",\"right\",\"snape\",\"away\",\"much\",\"look\",\"two\",\"never\",\"really\",\"knew\",\"first\",\"let\",\"made\",\"good\",\"malfoy\",\"little\",\"wand\",\"felt\",\"dumbledore\",\"turned\",\"james\",\"come\",\"got\",\"make\",\"took\",\"remus\",\"lily\",\"though\",\"sure\",\"say\",\"door\",\"tell\",\"take\",\"us\",\"looking\",\"dark\",\"voice\",\"voldemort\",\"last\",\"long\",\"told\",\"need\",\"left\",\"yes\",\"man\",\"wanted\",\"anything\",\"next\",\"oh\",\"came\",\"nodded\",\"love\",\"moment\",\"people\",\"saw\",\"another\",\"things\",\"went\",\"hands\",\"ca\",\"help\",\"day\",\"enough\",\"death\",\"smiled\",\"professor\",\"year\",\"mind\",\"nothing\",\"found\",\"ever\",\"boy\",\"hair\",\"always\",\"find\",\"bit\",\"seemed\",\"behind\",\"hogwarts\",\"thing\",\"bed\",\"trying\",\"feel\",\"started\",\"put\",\"since\",\"life\",\"house\",\"night\",\"heard\",\"black\",\"rrb\",\"without\",\"smile\",\"better\",\"years\",\"gave\",\"magic\",\"might\",\"side\",\"weasley\",\"everyone\",\"father\",\"sat\",\"began\",\"someone\",\"almost\",\"walked\",\"done\",\"finally\",\"already\",\"tried\",\"place\",\"every\",\"stood\",\"lrb\",\"everything\",\"friends\",\"three\",\"lord\",\"front\",\"pulled\",\"small\",\"also\",\"quickly\",\"course\",\"keep\",\"girl\",\"body\",\"best\",\"towards\",\"else\",\"arms\",\"neville\",\"table\",\"give\",\"mean\",\"work\",\"family\",\"sorry\",\"albus\",\"please\",\"end\",\"many\",\"world\",\"school\",\"mother\",\"great\",\"lucius\",\"old\",\"together\",\"new\",\"quite\",\"stop\",\"happened\",\"leave\",\"replied\",\"maybe\",\"mouth\",\"open\",\"yet\",\"soon\",\"must\",\"later\",\"floor\",\"getting\",\"able\",\"words\",\"arm\",\"name\",\"lips\",\"friend\",\"least\",\"hard\",\"mr\",\"feeling\",\"actually\",\"suddenly\",\"anyone\",\"seen\",\"slowly\",\"sighed\",\"luna\",\"talk\",\"spell\",\"shook\",\"making\",\"gone\",\"rather\",\"george\",\"believe\",\"probably\",\"held\",\"home\",\"far\",\"light\",\"used\",\"inside\",\"granger\",\"wo\",\"second\",\"opened\",\"rest\",\"taking\",\"fred\",\"stopped\",\"hear\",\"idea\",\"whispered\",\"rose\",\"coming\",\"across\",\"thank\",\"care\",\"try\",\"breath\",\"slightly\",\"tom\",\"parents\",\"yeah\",\"students\",\"called\",\"needed\",\"ask\",\"laughed\",\"close\",\"may\",\"watched\",\"use\",\"continued\",\"slytherin\",\"sitting\",\"gryffindor\",\"part\",\"heart\",\"morning\",\"blood\",\"feet\",\"happy\",\"lot\",\"pain\",\"book\",\"muggle\",\"remember\",\"okay\",\"hall\",\"fact\",\"past\",\"stared\",\"reached\",\"however\",\"chapter\",\"fine\",\"ministry\",\"thinking\",\"wrong\",\"along\",\"onto\",\"hope\",\"alone\",\"shoulder\",\"set\",\"read\",\"moved\",\"wizard\",\"bad\",\"standing\",\"either\",\"red\",\"chest\",\"decided\",\"fell\",\"talking\",\"dead\",\"minutes\",\"stay\",\"ran\",\"hurt\",\"understand\",\"young\",\"potion\",\"mcgonagall\",\"fingers\",\"instead\",\"caught\",\"person\",\"kill\",\"days\",\"woman\",\"miss\",\"potions\",\"point\",\"others\",\"air\",\"tears\",\"ready\",\"kiss\",\"ground\",\"tonks\",\"kept\",\"matter\",\"taken\",\"son\",\"times\",\"wait\",\"order\",\"forward\",\"deep\",\"closed\",\"noticed\",\"eaters\",\"curse\",\"story\",\"reason\",\"lost\",\"kind\",\"raised\",\"full\",\"sound\",\"sleep\",\"magical\",\"thanks\",\"move\",\"blaise\",\"different\",\"wall\",\"whole\",\"office\",\"bellatrix\",\"several\",\"question\",\"followed\",\"start\",\"half\",\"turn\",\"word\",\"perhaps\",\"anyway\",\"large\",\"outside\",\"answer\",\"holding\",\"class\",\"attention\",\"answered\",\"chair\",\"hit\",\"completely\",\"lupin\",\"exactly\",\"scorpius\",\"quietly\",\"waiting\",\"cold\",\"immediately\",\"mum\",\"ago\",\"minerva\",\"spoke\",\"robes\",\"saying\",\"eye\",\"longer\",\"today\",\"leaving\",\"watching\",\"stepped\",\"true\",\"green\",\"seeing\",\"hold\",\"staring\",\"child\",\"surprised\",\"pansy\",\"given\",\"master\",\"silence\",\"dad\",\"nearly\",\"turning\",\"softly\",\"nice\",\"neck\",\"headmaster\",\"finished\",\"fire\",\"meant\",\"brought\",\"closer\",\"simply\",\"witch\",\"grabbed\",\"four\",\"show\",\"hell\",\"grinned\",\"war\",\"managed\",\"realized\",\"charm\",\"says\",\"call\",\"change\",\"bloody\",\"looks\",\"narcissa\",\"top\",\"running\",\"children\",\"quidditch\",\"kissed\",\"killed\",\"chance\",\"speak\",\"common\",\"brother\",\"mrs\",\"shut\",\"skin\",\"week\",\"sent\",\"alright\",\"added\",\"pointed\",\"castle\",\"met\",\"rolled\",\"known\",\"expression\",\"boys\",\"molly\",\"supposed\",\"returned\",\"walking\",\"muttered\",\"whatever\",\"run\",\"fight\",\"hours\",\"knowing\",\"appeared\",\"leaned\",\"cast\",\"girls\",\"giving\",\"less\",\"happen\",\"upon\",\"books\",\"thoughts\",\"shrugged\",\"pretty\",\"water\",\"sort\",\"guess\",\"spells\",\"throat\",\"gently\",\"letter\",\"worry\",\"real\",\"pushed\",\"loved\",\"big\",\"stairs\",\"hagrid\",\"possible\",\"surprise\",\"couple\",\"glanced\",\"white\",\"meet\",\"seem\",\"passed\",\"fear\",\"bill\",\"five\",\"beside\",\"become\",\"desk\",\"watch\",\"sit\",\"smiling\",\"stand\",\"power\",\"placed\",\"dinner\",\"although\",\"sense\",\"toward\",\"corner\",\"merlin\",\"late\",\"safe\",\"die\",\"sir\",\"stupid\",\"bring\",\"walk\",\"wizards\",\"anymore\",\"soft\",\"kitchen\",\"snapped\",\"agreed\",\"eater\",\"wondered\",\"baby\",\"knows\",\"wish\",\"quiet\",\"telling\",\"break\",\"changed\",\"group\",\"peter\",\"laugh\",\"window\",\"pulling\",\"moving\",\"return\",\"charlie\",\"plan\",\"angry\",\"case\",\"short\",\"trust\",\"explained\",\"shot\",\"free\",\"dropped\",\"shoulders\",\"near\",\"sister\",\"gaze\",\"barely\",\"sight\",\"reading\",\"live\",\"beautiful\",\"especially\",\"died\",\"within\",\"cut\",\"figure\",\"christmas\",\"tonight\",\"shaking\",\"working\",\"worried\",\"spent\",\"clear\",\"months\",\"seat\",\"entire\",\"blue\",\"legs\",\"shouted\",\"dear\",\"memory\",\"frowned\",\"living\",\"stomach\",\"fall\",\"conversation\",\"straight\",\"allowed\",\"control\",\"wizarding\",\"stone\",\"remembered\",\"tone\",\"afraid\",\"fun\",\"form\",\"touch\",\"picked\",\"anger\",\"glad\",\"broke\",\"hour\",\"entered\",\"silent\",\"quick\",\"grin\",\"truth\",\"cried\",\"meeting\",\"nose\",\"laughing\",\"hey\",\"play\",\"smirked\",\"step\",\"certain\",\"important\",\"became\",\"weeks\",\"filled\",\"none\",\"auror\",\"warm\",\"team\",\"using\",\"food\",\"percy\",\"older\",\"empty\",\"fleur\",\"threw\",\"hate\",\"expected\",\"cheek\",\"yelled\",\"worse\",\"breakfast\",\"problem\",\"ones\",\"clearly\",\"teddy\",\"cloak\",\"memories\",\"perfect\",\"waited\",\"obviously\",\"shock\",\"liked\",\"arrived\",\"alive\",\"sometimes\",\"certainly\",\"riddle\",\"wife\",\"carefully\",\"note\",\"owl\",\"despite\",\"summer\",\"gotten\",\"information\",\"daphne\",\"job\",\"forced\",\"madam\",\"loud\",\"except\",\"ten\",\"wrapped\",\"tomorrow\",\"clothes\",\"glass\",\"deal\",\"library\",\"strong\",\"calm\",\"strange\",\"tea\",\"worked\",\"trouble\",\"confused\",\"battle\",\"ear\",\"evening\",\"mine\",\"easy\",\"normal\",\"minute\",\"wide\",\"seems\",\"parchment\",\"lay\",\"makes\",\"paused\",\"twins\",\"apparently\",\"daughter\",\"middle\",\"suppose\",\"moments\",\"tired\",\"high\",\"broom\",\"notice\",\"somehow\",\"led\",\"promise\",\"secret\",\"usual\",\"lying\",\"cup\",\"broken\",\"piece\",\"chuckled\",\"arthur\",\"tongue\",\"sounded\",\"men\",\"line\",\"questions\",\"pale\",\"means\",\"doubt\",\"muggles\",\"save\",\"attack\",\"wonder\",\"helped\",\"familiar\",\"explain\",\"bella\",\"finger\",\"aurors\",\"gasped\",\"uncle\",\"game\",\"hissed\",\"jumped\",\"minister\",\"situation\",\"charms\",\"bright\",\"pressed\",\"hospital\",\"mate\",\"whether\",\"position\",\"lifted\",\"glared\",\"manor\",\"moody\",\"headed\",\"seconds\",\"catch\",\"shall\",\"wants\",\"often\",\"fast\",\"asking\",\"dobby\",\"teeth\",\"early\",\"third\",\"asleep\",\"pomfrey\",\"listen\",\"wearing\",\"neither\",\"kingsley\",\"bag\",\"al\",\"following\",\"letting\",\"sigh\",\"besides\",\"screamed\",\"truly\",\"forget\",\"write\",\"covered\",\"pull\",\"mark\",\"follow\",\"beginning\",\"hoped\",\"elf\",\"keeping\",\"shirt\",\"fighting\",\"student\",\"flew\",\"playing\",\"likely\",\"wondering\",\"eyebrow\",\"guys\",\"direction\",\"easily\",\"usually\",\"learn\",\"hated\",\"ended\",\"crying\",\"starting\",\"lip\",\"somewhere\",\"enjoy\",\"future\",\"husband\",\"eat\",\"edge\",\"flying\",\"azkaban\",\"ah\",\"soul\",\"offered\",\"cheeks\",\"hoping\",\"cry\",\"damn\",\"falling\",\"earlier\",\"tightly\",\"knees\",\"send\",\"shocked\",\"powerful\",\"train\",\"serious\",\"money\",\"missed\",\"pair\",\"drink\",\"disappeared\",\"silver\",\"choice\",\"speaking\",\"hot\",\"pocket\",\"hide\",\"expect\",\"age\",\"brown\",\"ravenclaw\",\"aware\",\"definitely\",\"low\",\"spot\",\"eventually\",\"wake\",\"putting\",\"hug\",\"bedroom\",\"forest\",\"ears\",\"killing\",\"mad\",\"aunt\",\"single\",\"simple\",\"god\",\"mirror\",\"waved\",\"scared\",\"laughter\",\"dress\",\"present\",\"six\",\"continue\",\"admit\",\"sounds\",\"join\",\"exclaimed\",\"handed\",\"paper\",\"feelings\",\"blinked\",\"corridor\",\"breathing\",\"slipped\",\"check\",\"showed\",\"relief\",\"forehead\",\"ok\",\"force\",\"sleeping\",\"doors\",\"smirk\",\"younger\",\"box\",\"final\",\"wands\",\"news\",\"murmured\",\"writing\",\"protect\",\"causing\",\"indeed\",\"bathroom\",\"kissing\",\"ball\",\"steps\",\"wards\",\"dangerous\",\"seamus\",\"dean\",\"lunch\",\"glance\",\"alley\",\"obvious\",\"cause\",\"entrance\",\"sudden\",\"stayed\",\"business\",\"apart\",\"evil\",\"married\",\"cedric\",\"busy\",\"visit\",\"touched\",\"honestly\",\"needs\",\"difficult\",\"ring\",\"party\",\"imagine\",\"drew\",\"fault\",\"number\",\"stuff\",\"fuck\",\"burst\",\"dream\",\"leaning\",\"walls\",\"aside\",\"groaned\",\"crowd\",\"slytherins\",\"interrupted\",\"couch\",\"silently\",\"darkness\",\"remained\",\"learned\",\"hello\",\"tower\",\"foot\",\"stated\",\"snake\",\"dragon\",\"odd\",\"teacher\",\"ahead\",\"growled\",\"wanting\",\"lavender\",\"spend\",\"allow\",\"stuck\",\"match\",\"werewolf\",\"lose\",\"date\",\"finish\",\"points\",\"human\",\"grew\",\"blonde\",\"realised\",\"act\",\"hiding\",\"relationship\",\"response\",\"regulus\",\"caused\",\"umbridge\",\"unless\",\"shop\",\"tight\",\"huge\"],\"x\":[3.901484251022339,-20.104764938354492,-29.642833709716797,7.964180946350098,-25.84709358215332,5.888707637786865,9.188508987426758,-24.18949317932129,11.48188304901123,1.7862627506256104,0.20784223079681396,-7.054445266723633,32.139732360839844,-26.948204040527344,-35.12335968017578,13.515076637268066,-30.261531829833984,3.12182354927063,10.0975923538208,8.282817840576172,-9.352005958557129,-5.033766269683838,4.3889031410217285,0.17390720546245575,3.571197032928467,-19.02733039855957,-16.21721649169922,-10.928912162780762,7.326642036437988,22.449020385742188,-26.80118751525879,-4.929285049438477,-19.81365394592285,15.408920288085938,4.857367992401123,-4.062740802764893,-21.965618133544922,-2.1753756999969482,-16.32784652709961,10.139410972595215,11.7278413772583,-37.80386734008789,44.938472747802734,15.163932800292969,3.175767421722412,-1.5948069095611572,18.0875186920166,9.636173248291016,8.98918342590332,10.990310668945312,-23.054702758789062,1.564633846282959,13.364428520202637,15.22098159790039,-18.059431076049805,-34.74603271484375,-20.323055267333984,-19.3991641998291,14.01653003692627,8.88046932220459,-11.407377243041992,-20.474409103393555,-20.21379280090332,8.019031524658203,0.5817140340805054,-5.260608673095703,16.496280670166016,-3.601641893386841,-11.036552429199219,17.777023315429688,-35.28474807739258,-14.852404594421387,-22.524063110351562,-15.284844398498535,17.282936096191406,11.452771186828613,-4.3043107986450195,6.43434476852417,-15.794506072998047,-10.132159233093262,-9.601027488708496,6.741050720214844,15.666906356811523,17.878007888793945,-9.109256744384766,-20.000152587890625,-27.325883865356445,-0.43890368938446045,28.306129455566406,20.656156539916992,-5.799334526062012,15.161572456359863,12.479682922363281,-21.29717445373535,-4.919508457183838,3.300508737564087,0.3214883804321289,32.780513763427734,9.380391120910645,18.703533172607422,-29.779254913330078,-14.65593147277832,34.86353302001953,25.781585693359375,15.029995918273926,-7.625376224517822,15.108386993408203,-11.208407402038574,-12.24018383026123,14.855279922485352,-8.02883529663086,1.3240187168121338,14.550219535827637,4.970453262329102,31.447071075439453,15.217704772949219,-46.590248107910156,3.5802016258239746,14.645098686218262,-21.301387786865234,-28.09305191040039,8.671908378601074,22.060630798339844,28.664979934692383,33.104888916015625,-3.564016819000244,-15.36074161529541,10.379324913024902,8.892251968383789,-38.44123840332031,18.571125030517578,34.755653381347656,23.54924774169922,24.243017196655273,7.619614124298096,3.7967796325683594,-28.392629623413086,19.055274963378906,-11.66102409362793,-26.7550106048584,-21.652462005615234,17.44239616394043,0.7235244512557983,-24.607257843017578,-0.8015000820159912,6.494278907775879,7.190497875213623,3.765873670578003,6.865840911865234,15.441919326782227,-26.3781681060791,12.198018074035645,14.35695743560791,-6.322908878326416,45.45176315307617,-13.360785484313965,5.212918281555176,-30.38690185546875,-5.252533435821533,11.430643081665039,4.3349504470825195,4.577949047088623,40.46908950805664,-11.245305061340332,-3.843541145324707,17.62649917602539,10.615643501281738,11.027873992919922,-3.755997657775879,-27.677392959594727,-49.08177947998047,22.754173278808594,1.0995190143585205,22.45024871826172,-10.629446029663086,-4.042488098144531,-16.990163803100586,-3.818927526473999,-3.0099399089813232,44.64143753051758,22.07404899597168,31.497533798217773,-11.70754623413086,0.4348669648170471,-14.674098014831543,1.6824191808700562,10.668275833129883,14.068211555480957,5.144492149353027,-16.297576904296875,-2.008898973464966,-15.017060279846191,-29.464128494262695,7.259222030639648,-14.068861961364746,-24.61325454711914,7.974224090576172,6.200281143188477,7.04280424118042,20.300369262695312,0.3336465060710907,14.063156127929688,6.010595321655273,-6.386509895324707,-4.638851642608643,-4.738960266113281,-14.013412475585938,-6.362358570098877,8.453721046447754,5.992220878601074,-27.165054321289062,15.134969711303711,5.400656700134277,1.5555033683776855,17.234516143798828,-6.993549823760986,-1.0307526588439941,-30.571502685546875,-27.237934112548828,-6.3374104499816895,36.68017578125,-44.5330924987793,8.912564277648926,-20.806270599365234,4.695140838623047,-28.224754333496094,-1.2920513153076172,8.082609176635742,-32.0535774230957,28.974592208862305,8.918863296508789,-9.969172477722168,21.925601959228516,7.349043846130371,-23.669227600097656,3.2662525177001953,18.682540893554688,-24.69878578186035,13.147491455078125,-11.22941780090332,-28.479692459106445,-24.5882568359375,-3.9552505016326904,11.05648422241211,-33.710208892822266,-23.766672134399414,-20.055368423461914,5.85064172744751,-7.436980247497559,3.1905312538146973,3.2365641593933105,-17.701555252075195,-1.976179599761963,-16.376420974731445,-11.054594993591309,-6.867386341094971,27.505584716796875,-22.19576644897461,7.298914909362793,-9.081441879272461,-31.84889793395996,8.81108570098877,6.8272552490234375,-29.55121421813965,22.75888442993164,-21.95627212524414,28.118759155273438,-26.665515899658203,28.31753921508789,10.94447135925293,-8.4453763961792,34.44417190551758,-1.2456719875335693,2.538116693496704,0.17966914176940918,12.239814758300781,-13.69398021697998,29.231304168701172,22.900638580322266,-2.9438233375549316,-5.586248874664307,22.84401512145996,9.464465141296387,18.425432205200195,-33.127906799316406,-26.92705535888672,9.075658798217773,39.15963363647461,-6.391646385192871,29.167299270629883,-4.0927534103393555,-2.778749465942383,8.890610694885254,4.271326541900635,-0.3126440644264221,17.651111602783203,-6.053131580352783,-26.196117401123047,40.00477600097656,-27.888134002685547,-9.30247688293457,10.988269805908203,-26.25740623474121,7.763311386108398,-11.970165252685547,-5.608151912689209,9.611474990844727,-38.18840026855469,-7.601539134979248,17.375219345092773,30.436201095581055,-13.723251342773438,-27.809846878051758,-12.287784576416016,-1.135886549949646,0.6649564504623413,36.62496566772461,-19.220653533935547,-6.666353225708008,3.9566733837127686,-12.556818962097168,15.287418365478516,19.744443893432617,32.89677810668945,-9.840356826782227,-12.010347366333008,36.62065887451172,14.6216402053833,20.005390167236328,-0.056965384632349014,-42.278526306152344,2.946596145629883,-37.07077407836914,0.2431773543357849,-21.999366760253906,40.95321273803711,5.522401809692383,-10.501100540161133,-10.78111457824707,20.769290924072266,-18.76145362854004,18.804147720336914,10.04448127746582,4.208873748779297,-26.141828536987305,-4.624466419219971,-1.65177583694458,36.68270492553711,38.725616455078125,13.438626289367676,16.0487003326416,3.02023983001709,-33.81763458251953,-2.824634075164795,0.6787277460098267,-12.76212215423584,24.47355842590332,-7.387895584106445,-28.77358055114746,-25.485395431518555,15.856730461120605,1.6335521936416626,14.398895263671875,26.76913833618164,-15.71876049041748,45.284088134765625,11.369072914123535,-19.308992385864258,-19.841716766357422,1.4469045400619507,-34.70056915283203,-6.358503341674805,7.556886672973633,6.029532432556152,-5.546977996826172,7.499835014343262,-11.62890911102295,-31.98273468017578,29.6771297454834,12.17712688446045,-29.14432144165039,-47.06973648071289,-38.310298919677734,5.484800815582275,-21.114421844482422,4.875959873199463,-23.41131591796875,-3.3415045738220215,-21.304704666137695,-4.818313121795654,3.5851662158966064,-15.981955528259277,20.350065231323242,-17.78122901916504,-27.225322723388672,4.476015090942383,-5.501925468444824,-6.487884044647217,10.965566635131836,26.490751266479492,-15.683013916015625,-29.25349235534668,-25.738420486450195,3.6236655712127686,-12.633597373962402,-5.9540205001831055,-32.57181167602539,-33.17789840698242,-9.604803085327148,-12.013687133789062,-25.714576721191406,22.547908782958984,-12.773639678955078,-19.492637634277344,-15.868972778320312,0.7957480549812317,-34.74752426147461,-4.02943754196167,1.7582168579101562,-7.313083171844482,-17.741464614868164,-17.685317993164062,2.6687450408935547,6.071353912353516,-18.723308563232422,9.41149616241455,5.366844177246094,-9.925765037536621,-26.852245330810547,45.44453811645508,-9.112213134765625,-2.879715919494629,-30.508649826049805,24.708526611328125,4.834593772888184,-4.42908239364624,37.29669189453125,-30.75218963623047,-22.004262924194336,39.78615951538086,-1.1915562152862549,-37.20277404785156,-14.637640953063965,3.1335556507110596,-27.957378387451172,-8.338823318481445,32.920989990234375,-37.776832580566406,18.74989891052246,1.9035781621932983,-7.152589797973633,30.708675384521484,-12.731331825256348,-27.14261245727539,-26.31146240234375,-8.449607849121094,32.96089553833008,-15.963521957397461,-5.999804496765137,-27.82557487487793,-34.297550201416016,28.502824783325195,33.780479431152344,-33.555747985839844,-1.579520583152771,-38.68937301635742,-5.134027004241943,-26.316774368286133,6.169732093811035,-17.22593116760254,-25.217832565307617,-34.09531021118164,13.602365493774414,-28.02409553527832,23.156627655029297,31.843242645263672,-1.5462919473648071,-20.309654235839844,-32.04530334472656,21.367422103881836,-4.991196155548096,23.400636672973633,8.022953033447266,-2.1361582279205322,3.084183931350708,29.21650505065918,25.924039840698242,-28.54224967956543,3.379695177078247,-0.8539089560508728,2.8797223567962646,1.5242278575897217,36.257205963134766,-5.872385501861572,-3.9778153896331787,33.651912689208984,-5.902237415313721,3.478806495666504,-29.086694717407227,0.2305861860513687,-5.825784206390381,20.1971378326416,-19.507272720336914,9.969110488891602,-12.174555778503418,45.66887664794922,-34.86206817626953,-13.052971839904785,33.416648864746094,14.123303413391113,-18.747072219848633,-12.81569766998291,-26.236114501953125,46.765968322753906,4.7884345054626465,21.200542449951172,-48.768592834472656,-28.276512145996094,-28.501256942749023,-29.46589469909668,-28.82736587524414,23.481698989868164,-28.674095153808594,31.22132110595703,8.532479286193848,0.5696976780891418,10.629283905029297,2.923057794570923,-2.1488635540008545,26.707956314086914,14.995720863342285,19.427875518798828,-10.961637496948242,-0.7569758296012878,-18.241924285888672,-25.48680877685547,23.363733291625977,3.051913261413574,-5.329925060272217,21.83375358581543,-34.026737213134766,-26.08159065246582,-1.671504020690918,-4.539517402648926,-10.287297248840332,2.3746607303619385,3.6534018516540527,-18.338207244873047,-4.5069684982299805,-16.489139556884766,39.780723571777344,40.46642303466797,-20.547182083129883,-37.59169006347656,16.202322006225586,-30.3851261138916,-28.154010772705078,-16.773258209228516,-26.70456314086914,10.352521896362305,-11.263259887695312,12.601875305175781,11.699045181274414,0.24900765717029572,-26.728294372558594,-36.31092834472656,8.859161376953125,-36.05620574951172,-5.877284526824951,8.07583236694336,-12.52939510345459,-7.114417552947998,2.8562777042388916,-6.09150505065918,40.005184173583984,19.01765251159668,-7.868349075317383,13.200714111328125,18.348878860473633,7.7731804847717285,-29.51091766357422,11.6318359375,30.50949478149414,26.930112838745117,-44.54587173461914,22.706161499023438,-10.125689506530762,46.249088287353516,2.3666179180145264,33.7512321472168,-46.78011703491211,14.22375202178955,-12.832474708557129,-2.1897404193878174,-37.230201721191406,-9.916958808898926,28.41234016418457,-27.91214942932129,18.562673568725586,-5.400297164916992,-38.912933349609375,18.820528030395508,2.1931979656219482,8.13017749786377,18.75235366821289,24.308713912963867,1.4969271421432495,-5.176302909851074,-22.529216766357422,-10.278810501098633,18.851585388183594,11.552839279174805,-21.854902267456055,-25.45079231262207,-13.4284086227417,0.6100440621376038,-16.776216506958008,30.549102783203125,-18.23897361755371,-18.683902740478516,5.280948638916016,-38.115325927734375,3.308277130126953,-38.48388671875,33.14242172241211,-10.271610260009766,-36.686317443847656,-6.87532901763916,29.009761810302734,-31.006351470947266,18.788578033447266,6.686404705047607,7.7184977531433105,21.672462463378906,33.20908737182617,-2.9826905727386475,9.99911117553711,31.30124855041504,-5.454103946685791,32.7314567565918,22.247800827026367,33.14553451538086,-27.47119903564453,0.43495580554008484,-15.000252723693848,-25.54948616027832,-36.27311325073242,0.30303168296813965,4.705504417419434,-9.797286987304688,-37.30022430419922,19.015697479248047,31.76528549194336,5.097958087921143,13.691746711730957,4.471085071563721,-23.254592895507812,5.152772426605225,28.377120971679688,-7.593870639801025,-21.318857192993164,4.962573528289795,-12.27297306060791,16.947120666503906,-18.112930297851562,15.996374130249023,15.475397109985352,6.506659030914307,-16.416975021362305,-9.719697952270508,-1.588058352470398,33.33840560913086,34.57819747924805,6.678464412689209,31.62105369567871,14.290093421936035,14.043280601501465,-26.218692779541016,21.244407653808594,7.164870262145996,-17.017711639404297,-2.6029815673828125,10.884572982788086,47.259552001953125,-30.290708541870117,27.336706161499023,4.460575103759766,20.428157806396484,6.572930335998535,27.85623550415039,22.336938858032227,-17.201690673828125,15.262762069702148,33.62050247192383,22.739578247070312,5.123618125915527,-11.32757568359375,24.692516326904297,-7.074840545654297,33.75141525268555,-2.8721485137939453,6.0451154708862305,17.906753540039062,29.181720733642578,-7.650646209716797,14.251518249511719,30.479097366333008,-24.283489227294922,9.836333274841309,-25.900833129882812,-28.852642059326172,5.776480674743652,-10.133367538452148,5.025909900665283,1.8645074367523193,28.674726486206055,-9.272574424743652,12.857324600219727,-21.068572998046875,-3.949972152709961,7.228001117706299,-23.47237777709961,-3.480867862701416,9.466838836669922,17.094449996948242,-24.234384536743164,20.944570541381836,-16.72229766845703,8.5783109664917,-31.467350006103516,-26.263364791870117,-7.904694080352783,1.606157660484314,-5.795640468597412,13.56019401550293,11.379581451416016,-12.75407886505127,4.932067394256592,6.5982232093811035,22.383085250854492,22.0902099609375,24.17634391784668,-4.012810230255127,1.652712345123291,15.059151649475098,-2.815060615539551,-15.698844909667969,-6.917101860046387,30.867021560668945,-36.878597259521484,-14.739054679870605,31.63463592529297,-34.873416900634766,-38.08098602294922,28.94648551940918,11.734335899353027,37.226280212402344,-10.8490571975708,-29.301015853881836,18.892223358154297,-6.365159511566162,10.053000450134277,5.073855876922607,-33.771297454833984,-33.0855712890625,27.762052536010742,-21.119083404541016,-23.60391616821289,29.706039428710938,-12.548577308654785,5.902659893035889,5.376372814178467,15.933019638061523,4.9207763671875,-9.082161903381348,-11.875028610229492,-19.58690071105957,26.767559051513672,18.405454635620117,-13.98252010345459,-19.001428604125977,-5.327066421508789,-0.510191798210144,9.666583061218262,-21.455671310424805,26.850345611572266,-23.33233642578125,-19.0518798828125,9.624421119689941,-30.780454635620117,7.376734733581543,-38.147178649902344,13.582993507385254,-3.2605717182159424,39.24775695800781,-20.257606506347656,-30.565853118896484,-12.961299896240234,-18.6165714263916,-20.846506118774414,-1.583721399307251,-11.805646896362305,40.87995910644531,3.8063974380493164,23.01494598388672,28.27321434020996,-37.18576431274414,28.956396102905273,8.618602752685547,-4.47404146194458,-27.27424430847168,-5.615104675292969,11.294537544250488,4.593143463134766,16.21187400817871,17.75313949584961,0.5959309935569763,-3.1274313926696777,-41.272579193115234,-20.884384155273438,-26.3221435546875,18.11934471130371,18.538436889648438,11.338659286499023,-9.980181694030762,33.84051513671875,4.366842746734619,-37.343196868896484,26.09609031677246,-10.005228042602539,14.62294864654541,-25.023962020874023,-10.489047050476074,-1.5945388078689575,-40.97843933105469,-1.4731011390686035,-38.48983383178711,19.500852584838867,-1.5476270914077759,-1.3731666803359985,-16.01404571533203,-11.912291526794434,22.80577278137207,8.582391738891602,-7.7244672775268555,8.350974082946777,-1.7755310535430908,0.32893818616867065,33.93782424926758,-19.865299224853516,-13.693256378173828,6.45100212097168,-7.635688304901123,-5.883934497833252,26.241310119628906,32.823421478271484,4.501987934112549,0.5985602140426636,-13.211610794067383,28.514352798461914,-2.9488303661346436,5.976129055023193,12.763975143432617,5.979423522949219,6.691394805908203,-12.010197639465332,-28.07244300842285,-36.15263366699219,21.524681091308594,27.940948486328125,-7.892830848693848,19.678926467895508,-10.397366523742676,-13.261133193969727,14.7388277053833,6.378602981567383,-2.1581528186798096,16.420686721801758,-33.8253059387207,-10.567502975463867,-37.27671813964844,3.681375026702881,12.292037010192871,46.322628021240234,-19.51653480529785,4.914217948913574,0.8634882569313049,33.976646423339844,-36.39261245727539,-25.087387084960938,30.45447540283203,16.911359786987305,-28.232025146484375,22.443592071533203,-18.093982696533203,-27.9493465423584,20.355552673339844,-8.689208030700684,-10.351570129394531,-9.787734985351562,-5.45696496963501,3.5635530948638916,-13.605708122253418,16.479827880859375,-37.865806579589844,0.31087905168533325,27.075429916381836,16.15517234802246,13.378580093383789,12.119560241699219,-33.616024017333984,39.29475021362305,22.195205688476562,7.156901836395264,5.983563423156738,21.029512405395508,-37.84807586669922,29.13266372680664,18.96186065673828,35.39079666137695,9.519007682800293,-28.970430374145508,-29.081924438476562,31.20661163330078,-38.30724334716797,35.55366897583008,3.206721544265747,9.072287559509277,9.138965606689453,1.6625152826309204,-12.5537109375,6.987068176269531,9.488287925720215,9.425033569335938,-7.3570122718811035,-20.816516876220703,24.207813262939453,29.75056266784668,-22.000511169433594,2.6828086376190186,6.49897575378418,6.085624694824219,-0.39569616317749023,29.151872634887695,-1.5978260040283203,-31.494571685791016,-1.3896347284317017,42.639381408691406,11.733967781066895,-2.2969844341278076,-24.955913543701172,-5.61078405380249,-32.05107116699219,1.5846788883209229,11.766483306884766,-35.59199905395508,40.37244415283203,27.34300422668457,-29.444589614868164,-46.861595153808594,-2.3797476291656494,-9.041081428527832,-12.219922065734863,17.755430221557617,-8.093605995178223,29.409509658813477,2.8038718700408936,-28.515666961669922,-16.813941955566406,-17.190237045288086,15.281907081604004,28.772180557250977,11.085086822509766,-34.72918701171875,6.435845851898193,-28.896621704101562,46.2459602355957,8.401407241821289,-28.620887756347656,31.60934066772461,-20.255882263183594,16.04393196105957,26.802799224853516,-17.70006561279297,15.462369918823242,10.352639198303223,22.299030303955078,-26.360729217529297,-4.39223575592041,4.532662391662598,32.82096862792969,16.467233657836914,-11.871261596679688,-18.23354148864746,7.15794563293457,-20.01082992553711,8.387956619262695,35.56560516357422,-1.5352952480316162,-5.871144771575928],\"xaxis\":\"x\",\"y\":[8.343549728393555,15.60526180267334,5.513091564178467,16.54975128173828,19.560932159423828,23.903411865234375,-33.894615173339844,17.202560424804688,-8.568331718444824,1.9659630060195923,8.933809280395508,-16.585102081298828,30.549163818359375,20.797435760498047,-9.601349830627441,24.217470169067383,4.855433940887451,5.368535995483398,2.227381706237793,-35.139060974121094,-9.290538787841797,-33.61988830566406,17.41127586364746,8.253876686096191,-7.12440299987793,-11.26154899597168,21.58640480041504,-36.525848388671875,-7.646074295043945,-33.6483039855957,20.314804077148438,-43.423091888427734,28.96061897277832,11.347039222717285,19.791622161865234,-0.7681400179862976,18.068073272705078,3.6964638233184814,21.92713737487793,-34.093833923339844,3.1264443397521973,-8.910576820373535,6.673543930053711,3.2965314388275146,7.102845191955566,-4.46875524520874,-21.467361450195312,28.19284439086914,36.40823745727539,15.688190460205078,17.838489532470703,-2.7340986728668213,-44.07527160644531,42.99159240722656,21.81368064880371,-13.83286190032959,30.430606842041016,-12.357619285583496,23.279319763183594,37.24229431152344,-19.47052574157715,28.36910629272461,30.636804580688477,-1.6936781406402588,0.5162954926490784,5.8792314529418945,-32.03791809082031,8.863799095153809,-18.308652877807617,14.472627639770508,-9.30179214477539,15.690085411071777,38.9668083190918,15.015413284301758,-20.916837692260742,-11.67250919342041,7.611635208129883,19.531320571899414,-18.67695426940918,17.39190673828125,37.5252685546875,21.45571517944336,11.828856468200684,-19.362586975097656,16.38846778869629,-13.843147277832031,2.775212287902832,16.362184524536133,35.76698303222656,13.414210319519043,-10.79108715057373,-20.25373649597168,12.450906753540039,-16.540645599365234,-43.73359680175781,20.925058364868164,11.823662757873535,30.123004913330078,0.8631739616394043,31.568069458007812,1.6508138179779053,19.48244857788086,32.33906555175781,-9.947365760803223,12.547708511352539,-8.428522109985352,3.459763526916504,36.43422317504883,-31.91803741455078,1.488645076751709,-8.283564567565918,-2.9177753925323486,17.76998519897461,-30.53211784362793,-18.243621826171875,8.252091407775879,-16.122642517089844,26.72025489807129,43.522186279296875,-3.168539524078369,-28.65907859802246,-5.302733421325684,19.074981689453125,-17.434677124023438,28.817663192749023,45.1823616027832,-27.649105072021484,-0.21303963661193848,-9.079928398132324,13.926772117614746,2.6778934001922607,33.502681732177734,-14.496620178222656,8.424042701721191,15.509045600891113,-31.697574615478516,26.025714874267578,12.471976280212402,29.86125373840332,-12.637904167175293,-3.0936858654022217,10.666415214538574,-12.220476150512695,-19.29494857788086,5.93810510635376,-19.229520797729492,-4.69682502746582,26.569171905517578,-15.821005821228027,-18.705726623535156,-14.140534400939941,-0.21397489309310913,13.110587120056152,26.453704833984375,6.8414764404296875,13.518798828125,-31.415668487548828,-23.36935043334961,-23.068214416503906,-0.7422907948493958,-22.67395782470703,5.470470428466797,22.59992027282715,36.47026443481445,-38.50215148925781,3.723055124282837,-36.8073616027832,6.2944488525390625,-42.11185836791992,18.677701950073242,-15.297767639160156,-13.1531343460083,8.765460968017578,2.762667179107666,27.900297164916992,13.933650970458984,20.41440773010254,17.063613891601562,-17.476621627807617,4.287899494171143,19.07541847229004,-18.233144760131836,30.130958557128906,-6.944523811340332,25.549360275268555,37.47992706298828,-16.629777908325195,-4.302620887756348,-1.915510892868042,7.204322814941406,6.071208477020264,-17.701902389526367,5.969919681549072,2.798943519592285,-40.58570861816406,-38.010475158691406,-3.011500358581543,-20.570878982543945,13.506941795349121,-18.035356521606445,-38.69021224975586,23.615217208862305,24.53978157043457,1.5764203071594238,-42.329402923583984,3.169886827468872,-40.55995178222656,26.127614974975586,1.3543064594268799,-12.392923355102539,30.001340866088867,43.074153900146484,3.1156833171844482,-22.704837799072266,11.101768493652344,-11.22530460357666,-30.60036849975586,-2.241340160369873,18.85799217224121,9.050582885742188,15.79943561553955,-3.439260959625244,36.48491668701172,-16.506576538085938,-2.4300241470336914,22.961164474487305,10.203712463378906,3.376215934753418,-28.113872528076172,-16.31619644165039,-3.790844678878784,-25.40058135986328,-7.262282848358154,-27.0147762298584,18.75853729248047,20.488513946533203,-22.62447738647461,-37.94575500488281,-16.039377212524414,-19.153093338012695,22.99260902404785,-3.9065372943878174,45.086666107177734,8.794893264770508,4.0822062492370605,12.358049392700195,-13.002309799194336,-33.786865234375,20.997760772705078,10.064484596252441,25.277124404907227,-34.22026824951172,-25.42132568359375,13.921168327331543,28.75420379638672,16.531021118164062,15.252908706665039,6.615347862243652,20.699363708496094,10.108813285827637,1.7577592134475708,-30.484203338623047,15.243346214294434,-8.198911666870117,-7.383901596069336,-3.8245160579681396,18.07960319519043,-12.631864547729492,18.408214569091797,-1.8335853815078735,-0.8520868420600891,29.187368392944336,-20.295644760131836,-38.50864791870117,3.9880905151367188,3.516587972640991,5.304551601409912,-26.915264129638672,12.146126747131348,10.99591064453125,15.607367515563965,-35.7154655456543,-1.1778762340545654,-16.47471046447754,-8.332291603088379,-22.972412109375,-2.5051586627960205,-1.36519455909729,14.582147598266602,-5.448176860809326,-0.26310908794403076,4.690615177154541,-21.142183303833008,-34.73001480102539,2.4450840950012207,-7.940180778503418,-40.436824798583984,-28.129322052001953,-8.35986042022705,-21.541873931884766,39.08573913574219,15.700122833251953,-14.137937545776367,5.014315128326416,-27.437931060791016,-37.94950866699219,22.786911010742188,-26.195764541625977,6.798648357391357,29.67473793029785,35.91770935058594,-14.625263214111328,-18.308155059814453,5.585855484008789,9.206510543823242,36.41111755371094,5.198548793792725,21.34716033935547,-44.645877838134766,-16.649639129638672,-9.787215232849121,8.118086814880371,27.887758255004883,33.66383743286133,37.756675720214844,16.98581886291504,5.215611934661865,-6.749631881713867,13.569656372070312,-22.638851165771484,4.65637731552124,17.53498077392578,22.392606735229492,-38.74481201171875,26.28420066833496,22.190900802612305,8.564596176147461,-18.870704650878906,31.509010314941406,14.91677188873291,-8.87413215637207,15.820710182189941,-31.99234962463379,-17.847803115844727,-37.32200241088867,-10.039932250976562,30.498882293701172,16.67104721069336,-2.0798914432525635,7.233410835266113,35.79261016845703,0.33655986189842224,-24.908069610595703,-13.551261901855469,45.80051040649414,-5.789273262023926,10.82741641998291,20.959613800048828,-20.4354305267334,16.882972717285156,-10.466265678405762,-27.65690803527832,-16.257719039916992,-22.94757080078125,27.064083099365234,4.911595344543457,19.62784194946289,-21.805416107177734,-3.6483376026153564,-10.734539985656738,-14.59852409362793,1.601084589958191,2.1049158573150635,5.605823993682861,-22.553966522216797,-27.498327255249023,9.698263168334961,-28.064125061035156,13.371671676635742,-6.550076484680176,6.45050573348999,-14.793855667114258,-24.036197662353516,-6.597908020019531,26.467050552368164,4.263558864593506,13.109216690063477,-30.668046951293945,-8.370481491088867,-27.133872985839844,-22.73537254333496,31.697399139404297,-18.989442825317383,20.183063507080078,7.313880443572998,-45.90106201171875,6.130178451538086,-14.845415115356445,-10.709003448486328,1.672991394996643,-18.55138397216797,-8.168039321899414,-20.6583309173584,2.978515148162842,-26.430883407592773,-12.087666511535645,-29.03750228881836,-8.384769439697266,32.64247131347656,0.08870280534029007,16.88287353515625,-13.013775825500488,21.24550437927246,3.4324793815612793,31.67140007019043,-12.130904197692871,-13.920937538146973,-31.08211898803711,4.370427131652832,-37.884559631347656,21.39618492126465,-5.4684271812438965,-16.915700912475586,11.235124588012695,-13.990260124206543,-31.150470733642578,-8.629186630249023,38.70849609375,-25.449331283569336,7.407047748565674,-10.819915771484375,21.143375396728516,0.977408230304718,22.302892684936523,27.074886322021484,-7.9479522705078125,14.737135887145996,6.59840726852417,6.668610572814941,-15.815125465393066,20.549623489379883,-8.890637397766113,25.9854679107666,-33.13007354736328,-17.94820785522461,32.49345397949219,7.702419281005859,21.75898551940918,29.525775909423828,23.865581512451172,8.420319557189941,-21.969419479370117,33.33602523803711,29.763755798339844,-37.278133392333984,-36.63743591308594,31.71532440185547,-11.610128402709961,15.237710952758789,4.885779857635498,-22.03047752380371,-20.60422706604004,-12.555027961730957,-2.930126905441284,-5.272523403167725,-8.020285606384277,35.0400505065918,26.23236656188965,11.774733543395996,-16.14313507080078,-18.599536895751953,2.9431142807006836,10.49931526184082,-17.42428207397461,24.12482452392578,34.37232971191406,-3.9411582946777344,-18.713239669799805,-18.318897247314453,-8.589768409729004,34.887351989746094,-14.255616188049316,0.06581908464431763,6.708917617797852,-15.080933570861816,-26.779617309570312,-9.966049194335938,-1.1881794929504395,-1.737565279006958,-21.368499755859375,0.13804997503757477,6.3288373947143555,15.202435493469238,-36.53329086303711,-32.22606658935547,-30.283498764038086,12.287818908691406,2.0608530044555664,-23.52033805847168,16.362512588500977,-21.259302139282227,-35.93198776245117,16.786970138549805,-2.855351209640503,-1.4562426805496216,5.63643741607666,-10.422209739685059,-28.127159118652344,-11.677738189697266,16.47095489501953,-19.61129379272461,3.473623514175415,24.08855628967285,7.048205852508545,-31.76070785522461,-3.334021806716919,-15.224005699157715,-8.060060501098633,-12.837676048278809,1.7505812644958496,-13.169500350952148,7.742271423339844,-27.747285842895508,1.0244536399841309,-1.4766942262649536,-0.4186687171459198,-36.817420959472656,-30.61417579650879,24.045377731323242,-1.5885756015777588,29.360750198364258,27.198135375976562,18.342823028564453,19.078773498535156,-13.306042671203613,-18.116064071655273,14.49261474609375,9.159918785095215,-29.270523071289062,-32.740840911865234,-0.22893792390823364,4.177017688751221,30.49534797668457,-3.9419682025909424,33.130775451660156,11.388582229614258,14.434829711914062,3.8438656330108643,7.468935489654541,-0.29874861240386963,-15.816075325012207,8.944138526916504,29.33776092529297,8.219659805297852,-30.040681838989258,-23.110637664794922,-21.120391845703125,-15.736669540405273,23.788272857666016,9.76962661743164,4.803342819213867,-2.4571192264556885,-12.305534362792969,10.042854309082031,5.295086860656738,-22.6298885345459,-13.704358100891113,-25.22195053100586,-40.23176193237305,-29.959754943847656,33.14319610595703,-16.815773010253906,-8.57427978515625,-13.702574729919434,-8.365013122558594,25.68351936340332,-4.65630578994751,1.2065778970718384,29.709524154663086,-25.278087615966797,9.666560173034668,-22.97315788269043,28.151939392089844,1.6770145893096924,-3.450206756591797,2.1616709232330322,2.6889443397521973,-6.303155899047852,-5.247679233551025,34.0449104309082,-14.02651596069336,-16.261552810668945,-26.37300682067871,-39.78727722167969,0.9730662107467651,15.48157787322998,-10.196205139160156,-1.9222805500030518,24.23455047607422,-37.897918701171875,-26.912199020385742,-5.627638816833496,-18.925655364990234,26.295400619506836,-12.96534252166748,11.14859390258789,-26.09796714782715,-7.093647003173828,38.96579360961914,3.8776297569274902,7.0323567390441895,-22.922225952148438,-29.35129165649414,-26.240997314453125,3.7922658920288086,3.7224764823913574,-0.7734056711196899,33.981204986572266,-17.88854217529297,3.6925973892211914,-23.220945358276367,13.82050609588623,3.6151039600372314,0.7943259477615356,-11.706486701965332,-39.85873794555664,7.032736301422119,17.911603927612305,8.638497352600098,0.31203731894493103,-37.65091323852539,-1.0250897407531738,10.448939323425293,-3.4041407108306885,33.86210250854492,-13.603097915649414,-7.172725677490234,-4.897304534912109,-27.578866958618164,8.849536895751953,-7.404074668884277,0.8065975904464722,24.30837059020996,37.2290153503418,-20.374717712402344,23.60879135131836,-23.795015335083008,14.972175598144531,12.991727828979492,-38.51026153564453,0.9156903624534607,2.2259650230407715,0.7423073649406433,6.384063720703125,-0.681821882724762,-5.009785175323486,26.652692794799805,-45.325504302978516,-10.191362380981445,-4.324764251708984,-8.36136531829834,-4.594141483306885,-1.4827330112457275,5.796238899230957,-17.05720329284668,29.487590789794922,0.9923372864723206,1.3917659521102905,13.897357940673828,30.505104064941406,-31.29193687438965,-30.370285034179688,-30.105892181396484,-3.0138771533966064,29.22169303894043,22.94045639038086,-2.3913941383361816,16.465377807617188,4.176187992095947,26.717849731445312,18.22142791748047,45.376312255859375,5.413224697113037,7.0521039962768555,-26.967205047607422,0.9416863322257996,-46.53779983520508,-26.694509506225586,6.435641765594482,-22.44088363647461,6.972077369689941,4.324732780456543,-11.65849781036377,-1.5054123401641846,1.9342296123504639,7.027907371520996,1.2585560083389282,22.444284439086914,-31.860095977783203,29.05377960205078,2.3572986125946045,-11.007543563842773,-1.6106727123260498,35.06180953979492,-22.242502212524414,17.223228454589844,-30.313907623291016,-11.710763931274414,36.367679595947266,-3.312485456466675,24.082653045654297,-4.74871301651001,31.538972854614258,-28.395469665527344,6.13909387588501,36.119781494140625,1.9252650737762451,-26.776254653930664,11.115711212158203,-10.117279052734375,-6.412200927734375,-20.110855102539062,15.688173294067383,13.219291687011719,-1.0982677936553955,-11.642086029052734,-26.416532516479492,-0.9127895832061768,-11.138215065002441,1.3662936687469482,26.050443649291992,-45.272789001464844,45.86792755126953,36.02442932128906,-8.559277534484863,19.63072967529297,-28.847332000732422,10.781996726989746,3.9286439418792725,12.641085624694824,28.09546661376953,25.29639434814453,-3.0850954055786133,13.068499565124512,-12.709877967834473,8.936711311340332,27.083049774169922,-44.80851745605469,-4.86704158782959,-1.0686811208724976,31.436288833618164,8.381501197814941,0.8046135902404785,-2.802974224090576,-5.629153251647949,-3.446195125579834,14.329236030578613,-25.7337703704834,-25.304311752319336,-10.030447959899902,24.7779541015625,3.8925704956054688,-14.889069557189941,-25.09572410583496,-1.1193524599075317,-17.252643585205078,24.372352600097656,-18.905216217041016,36.269596099853516,-9.757403373718262,15.702681541442871,18.98323631286621,0.35408398509025574,-21.7392520904541,10.113551139831543,22.68950843811035,13.190921783447266,-1.6244001388549805,-21.987085342407227,-5.523279666900635,19.150978088378906,9.70171070098877,-15.252063751220703,-7.357163429260254,24.177331924438477,-29.883331298828125,12.924147605895996,-21.932514190673828,28.222919464111328,-3.156428813934326,5.7354607582092285,0.2579793632030487,4.969897270202637,11.139095306396484,-6.79535436630249,-26.678407669067383,-22.20549964904785,12.9796724319458,-22.555755615234375,-1.0463263988494873,-1.7114841938018799,22.91364097595215,22.25229263305664,-45.69637680053711,24.006288528442383,14.375314712524414,-20.35097885131836,8.64067268371582,3.290076971054077,-3.600645065307617,-0.1379973590373993,18.209096908569336,-37.525543212890625,-9.714577674865723,-0.3136577010154724,19.746002197265625,15.402488708496094,-17.346155166625977,4.187136650085449,-1.142203688621521,-1.7109153270721436,9.689038276672363,6.344593524932861,1.132239580154419,30.456010818481445,0.2000531405210495,-32.6633186340332,-20.152137756347656,-5.187734603881836,16.685327529907227,5.672842979431152,4.166110992431641,-36.69981002807617,-1.6643543243408203,4.0763750076293945,20.52962303161621,-26.50458526611328,-18.065031051635742,-35.076419830322266,-39.504886627197266,-11.619770050048828,0.22573620080947876,7.315047264099121,-18.604188919067383,3.846829414367676,8.664916038513184,0.7779424786567688,-16.294645309448242,-0.8796305656433105,-18.8005313873291,-27.102705001831055,9.23981761932373,7.141785144805908,-27.1981143951416,-30.34718894958496,21.783803939819336,13.103370666503906,34.97587585449219,-25.434322357177734,18.701995849609375,-7.438522815704346,1.7371294498443604,-26.832435607910156,-16.1815128326416,-19.31454086303711,-5.4506707191467285,-28.575632095336914,23.1452579498291,-33.15085220336914,-20.263826370239258,-31.67611312866211,29.577974319458008,6.179483413696289,30.580768585205078,-19.633285522460938,-9.504167556762695,23.990215301513672,-28.8941707611084,-21.873315811157227,3.8838229179382324,7.920258045196533,-46.65618896484375,-5.159430027008057,7.714470863342285,-4.799563884735107,1.340729832649231,45.81039047241211,-9.794020652770996,2.147610664367676,-26.22426414489746,-30.294816970825195,-4.1151957511901855,-3.053071975708008,-35.70877456665039,-33.8786735534668,-23.611053466796875,-0.5151702165603638,-11.236756324768066,-2.7947256565093994,-38.92446517944336,15.876367568969727,-12.056109428405762,-6.306227684020996,-32.13022994995117,13.734148025512695,37.349586486816406,-29.72774314880371,-21.12941551208496,-44.080406188964844,8.527165412902832,3.753969192504883,-6.891857147216797,28.09294319152832,32.294654846191406,0.1045137420296669,-33.320030212402344,21.69097900390625,4.112849712371826,-37.42250442504883,13.92778205871582,7.601590156555176,18.539949417114258,18.470542907714844,0.7484561204910278,-10.020233154296875,-22.46393394470215,-4.733275413513184,5.421471118927002,-27.37236213684082,-22.613340377807617,-14.364982604980469,7.600095748901367,-14.83847713470459,11.287359237670898,30.022918701171875,15.388630867004395,-0.32445213198661804,-14.618159294128418,-29.215103149414062,7.57667350769043,19.072301864624023,-11.442642211914062,-9.141189575195312,3.220064878463745,11.144682884216309,-23.966028213500977,13.341397285461426,4.105432033538818,12.044567108154297,21.51309585571289,-6.894683837890625,-1.1536271572113037,-18.282934188842773,-27.317256927490234,-32.48659896850586,-1.3459694385528564,9.010722160339355,16.528549194335938,9.281944274902344,-15.610671997070312,-30.11116600036621,-25.039356231689453,-14.27401351928711,19.735280990600586,18.367671966552734,-21.179407119750977,-38.395503997802734,5.690881252288818,11.854562759399414,10.769506454467773,-11.56575870513916,13.923311233520508,-19.879249572753906,0.583831250667572,21.891141891479492,19.8828125,-6.305046081542969,26.179075241088867,-30.36802101135254,8.41419792175293,26.965744018554688,35.79462432861328,4.456105709075928,-5.476429462432861,-6.8229475021362305,-4.644123554229736,-3.4897453784942627,14.454944610595703,-7.9143290519714355,-0.27451592683792114,21.770658493041992,-3.956284523010254,9.660520553588867,28.562868118286133,32.27029800415039,21.686294555664062,6.505520343780518,-22.470924377441406,-35.06894302368164,-21.88235855102539],\"yaxis\":\"y\",\"type\":\"scatter\",\"textposition\":\"top center\"}],                        {\"template\":{\"data\":{\"bar\":[{\"error_x\":{\"color\":\"#2a3f5f\"},\"error_y\":{\"color\":\"#2a3f5f\"},\"marker\":{\"line\":{\"color\":\"#E5ECF6\",\"width\":0.5},\"pattern\":{\"fillmode\":\"overlay\",\"size\":10,\"solidity\":0.2}},\"type\":\"bar\"}],\"barpolar\":[{\"marker\":{\"line\":{\"color\":\"#E5ECF6\",\"width\":0.5},\"pattern\":{\"fillmode\":\"overlay\",\"size\":10,\"solidity\":0.2}},\"type\":\"barpolar\"}],\"carpet\":[{\"aaxis\":{\"endlinecolor\":\"#2a3f5f\",\"gridcolor\":\"white\",\"linecolor\":\"white\",\"minorgridcolor\":\"white\",\"startlinecolor\":\"#2a3f5f\"},\"baxis\":{\"endlinecolor\":\"#2a3f5f\",\"gridcolor\":\"white\",\"linecolor\":\"white\",\"minorgridcolor\":\"white\",\"startlinecolor\":\"#2a3f5f\"},\"type\":\"carpet\"}],\"choropleth\":[{\"colorbar\":{\"outlinewidth\":0,\"ticks\":\"\"},\"type\":\"choropleth\"}],\"contour\":[{\"colorbar\":{\"outlinewidth\":0,\"ticks\":\"\"},\"colorscale\":[[0.0,\"#0d0887\"],[0.1111111111111111,\"#46039f\"],[0.2222222222222222,\"#7201a8\"],[0.3333333333333333,\"#9c179e\"],[0.4444444444444444,\"#bd3786\"],[0.5555555555555556,\"#d8576b\"],[0.6666666666666666,\"#ed7953\"],[0.7777777777777778,\"#fb9f3a\"],[0.8888888888888888,\"#fdca26\"],[1.0,\"#f0f921\"]],\"type\":\"contour\"}],\"contourcarpet\":[{\"colorbar\":{\"outlinewidth\":0,\"ticks\":\"\"},\"type\":\"contourcarpet\"}],\"heatmap\":[{\"colorbar\":{\"outlinewidth\":0,\"ticks\":\"\"},\"colorscale\":[[0.0,\"#0d0887\"],[0.1111111111111111,\"#46039f\"],[0.2222222222222222,\"#7201a8\"],[0.3333333333333333,\"#9c179e\"],[0.4444444444444444,\"#bd3786\"],[0.5555555555555556,\"#d8576b\"],[0.6666666666666666,\"#ed7953\"],[0.7777777777777778,\"#fb9f3a\"],[0.8888888888888888,\"#fdca26\"],[1.0,\"#f0f921\"]],\"type\":\"heatmap\"}],\"heatmapgl\":[{\"colorbar\":{\"outlinewidth\":0,\"ticks\":\"\"},\"colorscale\":[[0.0,\"#0d0887\"],[0.1111111111111111,\"#46039f\"],[0.2222222222222222,\"#7201a8\"],[0.3333333333333333,\"#9c179e\"],[0.4444444444444444,\"#bd3786\"],[0.5555555555555556,\"#d8576b\"],[0.6666666666666666,\"#ed7953\"],[0.7777777777777778,\"#fb9f3a\"],[0.8888888888888888,\"#fdca26\"],[1.0,\"#f0f921\"]],\"type\":\"heatmapgl\"}],\"histogram\":[{\"marker\":{\"pattern\":{\"fillmode\":\"overlay\",\"size\":10,\"solidity\":0.2}},\"type\":\"histogram\"}],\"histogram2d\":[{\"colorbar\":{\"outlinewidth\":0,\"ticks\":\"\"},\"colorscale\":[[0.0,\"#0d0887\"],[0.1111111111111111,\"#46039f\"],[0.2222222222222222,\"#7201a8\"],[0.3333333333333333,\"#9c179e\"],[0.4444444444444444,\"#bd3786\"],[0.5555555555555556,\"#d8576b\"],[0.6666666666666666,\"#ed7953\"],[0.7777777777777778,\"#fb9f3a\"],[0.8888888888888888,\"#fdca26\"],[1.0,\"#f0f921\"]],\"type\":\"histogram2d\"}],\"histogram2dcontour\":[{\"colorbar\":{\"outlinewidth\":0,\"ticks\":\"\"},\"colorscale\":[[0.0,\"#0d0887\"],[0.1111111111111111,\"#46039f\"],[0.2222222222222222,\"#7201a8\"],[0.3333333333333333,\"#9c179e\"],[0.4444444444444444,\"#bd3786\"],[0.5555555555555556,\"#d8576b\"],[0.6666666666666666,\"#ed7953\"],[0.7777777777777778,\"#fb9f3a\"],[0.8888888888888888,\"#fdca26\"],[1.0,\"#f0f921\"]],\"type\":\"histogram2dcontour\"}],\"mesh3d\":[{\"colorbar\":{\"outlinewidth\":0,\"ticks\":\"\"},\"type\":\"mesh3d\"}],\"parcoords\":[{\"line\":{\"colorbar\":{\"outlinewidth\":0,\"ticks\":\"\"}},\"type\":\"parcoords\"}],\"pie\":[{\"automargin\":true,\"type\":\"pie\"}],\"scatter\":[{\"marker\":{\"colorbar\":{\"outlinewidth\":0,\"ticks\":\"\"}},\"type\":\"scatter\"}],\"scatter3d\":[{\"line\":{\"colorbar\":{\"outlinewidth\":0,\"ticks\":\"\"}},\"marker\":{\"colorbar\":{\"outlinewidth\":0,\"ticks\":\"\"}},\"type\":\"scatter3d\"}],\"scattercarpet\":[{\"marker\":{\"colorbar\":{\"outlinewidth\":0,\"ticks\":\"\"}},\"type\":\"scattercarpet\"}],\"scattergeo\":[{\"marker\":{\"colorbar\":{\"outlinewidth\":0,\"ticks\":\"\"}},\"type\":\"scattergeo\"}],\"scattergl\":[{\"marker\":{\"colorbar\":{\"outlinewidth\":0,\"ticks\":\"\"}},\"type\":\"scattergl\"}],\"scattermapbox\":[{\"marker\":{\"colorbar\":{\"outlinewidth\":0,\"ticks\":\"\"}},\"type\":\"scattermapbox\"}],\"scatterpolar\":[{\"marker\":{\"colorbar\":{\"outlinewidth\":0,\"ticks\":\"\"}},\"type\":\"scatterpolar\"}],\"scatterpolargl\":[{\"marker\":{\"colorbar\":{\"outlinewidth\":0,\"ticks\":\"\"}},\"type\":\"scatterpolargl\"}],\"scatterternary\":[{\"marker\":{\"colorbar\":{\"outlinewidth\":0,\"ticks\":\"\"}},\"type\":\"scatterternary\"}],\"surface\":[{\"colorbar\":{\"outlinewidth\":0,\"ticks\":\"\"},\"colorscale\":[[0.0,\"#0d0887\"],[0.1111111111111111,\"#46039f\"],[0.2222222222222222,\"#7201a8\"],[0.3333333333333333,\"#9c179e\"],[0.4444444444444444,\"#bd3786\"],[0.5555555555555556,\"#d8576b\"],[0.6666666666666666,\"#ed7953\"],[0.7777777777777778,\"#fb9f3a\"],[0.8888888888888888,\"#fdca26\"],[1.0,\"#f0f921\"]],\"type\":\"surface\"}],\"table\":[{\"cells\":{\"fill\":{\"color\":\"#EBF0F8\"},\"line\":{\"color\":\"white\"}},\"header\":{\"fill\":{\"color\":\"#C8D4E3\"},\"line\":{\"color\":\"white\"}},\"type\":\"table\"}]},\"layout\":{\"annotationdefaults\":{\"arrowcolor\":\"#2a3f5f\",\"arrowhead\":0,\"arrowwidth\":1},\"autotypenumbers\":\"strict\",\"coloraxis\":{\"colorbar\":{\"outlinewidth\":0,\"ticks\":\"\"}},\"colorscale\":{\"diverging\":[[0,\"#8e0152\"],[0.1,\"#c51b7d\"],[0.2,\"#de77ae\"],[0.3,\"#f1b6da\"],[0.4,\"#fde0ef\"],[0.5,\"#f7f7f7\"],[0.6,\"#e6f5d0\"],[0.7,\"#b8e186\"],[0.8,\"#7fbc41\"],[0.9,\"#4d9221\"],[1,\"#276419\"]],\"sequential\":[[0.0,\"#0d0887\"],[0.1111111111111111,\"#46039f\"],[0.2222222222222222,\"#7201a8\"],[0.3333333333333333,\"#9c179e\"],[0.4444444444444444,\"#bd3786\"],[0.5555555555555556,\"#d8576b\"],[0.6666666666666666,\"#ed7953\"],[0.7777777777777778,\"#fb9f3a\"],[0.8888888888888888,\"#fdca26\"],[1.0,\"#f0f921\"]],\"sequentialminus\":[[0.0,\"#0d0887\"],[0.1111111111111111,\"#46039f\"],[0.2222222222222222,\"#7201a8\"],[0.3333333333333333,\"#9c179e\"],[0.4444444444444444,\"#bd3786\"],[0.5555555555555556,\"#d8576b\"],[0.6666666666666666,\"#ed7953\"],[0.7777777777777778,\"#fb9f3a\"],[0.8888888888888888,\"#fdca26\"],[1.0,\"#f0f921\"]]},\"colorway\":[\"#636efa\",\"#EF553B\",\"#00cc96\",\"#ab63fa\",\"#FFA15A\",\"#19d3f3\",\"#FF6692\",\"#B6E880\",\"#FF97FF\",\"#FECB52\"],\"font\":{\"color\":\"#2a3f5f\"},\"geo\":{\"bgcolor\":\"white\",\"lakecolor\":\"white\",\"landcolor\":\"#E5ECF6\",\"showlakes\":true,\"showland\":true,\"subunitcolor\":\"white\"},\"hoverlabel\":{\"align\":\"left\"},\"hovermode\":\"closest\",\"mapbox\":{\"style\":\"light\"},\"paper_bgcolor\":\"white\",\"plot_bgcolor\":\"#E5ECF6\",\"polar\":{\"angularaxis\":{\"gridcolor\":\"white\",\"linecolor\":\"white\",\"ticks\":\"\"},\"bgcolor\":\"#E5ECF6\",\"radialaxis\":{\"gridcolor\":\"white\",\"linecolor\":\"white\",\"ticks\":\"\"}},\"scene\":{\"xaxis\":{\"backgroundcolor\":\"#E5ECF6\",\"gridcolor\":\"white\",\"gridwidth\":2,\"linecolor\":\"white\",\"showbackground\":true,\"ticks\":\"\",\"zerolinecolor\":\"white\"},\"yaxis\":{\"backgroundcolor\":\"#E5ECF6\",\"gridcolor\":\"white\",\"gridwidth\":2,\"linecolor\":\"white\",\"showbackground\":true,\"ticks\":\"\",\"zerolinecolor\":\"white\"},\"zaxis\":{\"backgroundcolor\":\"#E5ECF6\",\"gridcolor\":\"white\",\"gridwidth\":2,\"linecolor\":\"white\",\"showbackground\":true,\"ticks\":\"\",\"zerolinecolor\":\"white\"}},\"shapedefaults\":{\"line\":{\"color\":\"#2a3f5f\"}},\"ternary\":{\"aaxis\":{\"gridcolor\":\"white\",\"linecolor\":\"white\",\"ticks\":\"\"},\"baxis\":{\"gridcolor\":\"white\",\"linecolor\":\"white\",\"ticks\":\"\"},\"bgcolor\":\"#E5ECF6\",\"caxis\":{\"gridcolor\":\"white\",\"linecolor\":\"white\",\"ticks\":\"\"}},\"title\":{\"x\":0.05},\"xaxis\":{\"automargin\":true,\"gridcolor\":\"white\",\"linecolor\":\"white\",\"ticks\":\"\",\"title\":{\"standoff\":15},\"zerolinecolor\":\"white\",\"zerolinewidth\":2},\"yaxis\":{\"automargin\":true,\"gridcolor\":\"white\",\"linecolor\":\"white\",\"ticks\":\"\",\"title\":{\"standoff\":15},\"zerolinecolor\":\"white\",\"zerolinewidth\":2}}},\"xaxis\":{\"anchor\":\"y\",\"domain\":[0.0,1.0],\"title\":{\"text\":\"x\"}},\"yaxis\":{\"anchor\":\"x\",\"domain\":[0.0,1.0],\"title\":{\"text\":\"y\"}},\"legend\":{\"tracegroupgap\":0},\"margin\":{\"t\":60},\"title\":{\"text\":\"t-SNE for w2v model on HPAC\"},\"autosize\":false,\"height\":600,\"width\":900},                        {\"responsive\": true}                    ).then(function(){\n",
       "                            \n",
       "var gd = document.getElementById('07c0c9ce-60bd-495b-a490-69c3bb5095af');\n",
       "var x = new MutationObserver(function (mutations, observer) {{\n",
       "        var display = window.getComputedStyle(gd).display;\n",
       "        if (!display || display === 'none') {{\n",
       "            console.log([gd, 'removed!']);\n",
       "            Plotly.purge(gd);\n",
       "            observer.disconnect();\n",
       "        }}\n",
       "}});\n",
       "\n",
       "// Listen for the removal of the full notebook cells\n",
       "var notebookContainer = gd.closest('#notebook-container');\n",
       "if (notebookContainer) {{\n",
       "    x.observe(notebookContainer, {childList: true});\n",
       "}}\n",
       "\n",
       "// Listen for the clearing of the current output cell\n",
       "var outputEl = gd.closest('.output');\n",
       "if (outputEl) {{\n",
       "    x.observe(outputEl, {childList: true});\n",
       "}}\n",
       "\n",
       "                        })                };                            </script>        </div>\n",
       "</body>\n",
       "</html>"
      ]
     },
     "metadata": {},
     "output_type": "display_data"
    }
   ],
   "source": [
    "# непосредственно интерактивная визуализация топ-1000 векторов на плоскости\n",
    "fig = px.scatter(df_tsne, x='x', \n",
    "                y='y', text='word')\n",
    "\n",
    "fig.update_traces(textposition='top center')\n",
    "\n",
    "fig.update_layout(\n",
    "    autosize=False,\n",
    "    height=600,\n",
    "    width=900,\n",
    "    title_text='t-SNE for w2v model on HPAC'\n",
    ")\n",
    "fig.show()"
   ]
  },
  {
   "cell_type": "markdown",
   "metadata": {
    "id": "EMTfBRawO6pH"
   },
   "source": [
    "Из данной визуализации видно, что похожие слова (конечно, подразумеваются те, которые употребляются в одинаковом контексте) расположены близко друг к другу, как и ожидается на выходе w2v."
   ]
  },
  {
   "cell_type": "markdown",
   "metadata": {
    "id": "pK9r5fzx2E-m"
   },
   "source": [
    "## Часть 3. [5 баллов] Классификация текстов\n",
    "Задача классификации формулируется так: данный фрагмент фанфика описывают какую-то ситуацию, которая предшествует произнесению заклинания. Требуется по тексту предсказать, какое именно заклинание будет произнесено. Таким образом, заклинание - это фактически метка класса. Основная мера качества – macro $F_1$.\n",
    "Обучите несколько классификаторов и сравните их между собой. Оцените качество классификаторов на частых и редких классах. Какие классы чаще всего оказываются перепутаны? Связаны ли ошибки со смыслом заклинаний?\n",
    "\n",
    "Используйте фрагменты из множества train для обучения, из множества dev для отладки, из множества test – для тестирования и получения итоговых результатов. \n",
    "\n",
    "1. [1 балл] Используйте fastText в качестве baseline-классификатора.\n",
    "2. [2 балла] Используйте сверточные  или реккурентные сети в качестве более продвинутого классификатора. Поэкспериментируйте с количеством и размерностью фильтров, используйте разные размеры окон, попробуйте использовать $k$-max pooling. \n",
    "3. [2 балла] Попробуйте расширить обучающее множество за счет аугментации данных. Если вам понадобится словарь синонимов, можно использовать WordNet (ниже вы найдете примеры).\n",
    "\n",
    "[бонус] Используйте результат max pooling'а как эмбеддинг входного текста. Визуализируйте эмбеддинги 500-1000 предложений из обучающего множества и изучите свойства получившегося пространства.\n",
    "\n",
    "[бонус] Используйте ваш любимый классификатор и любые (честные) способы повышения качества классификации и получите macro $F_1$ больше 0.5."
   ]
  },
  {
   "cell_type": "code",
   "execution_count": null,
   "metadata": {
    "id": "tw5he0Lm2BLn"
   },
   "outputs": [],
   "source": []
  },
  {
   "cell_type": "markdown",
   "metadata": {
    "id": "qqt8B6AD2HTK"
   },
   "source": [
    "## Часть 4. [1 балл] Итоги\n",
    "Напишите краткое резюме проделанной работы. Читали ли вы сами Гарри Поттера или фанфики о нем и помогло ли вам знание предметной области в выполнении домашнего задания?"
   ]
  },
  {
   "cell_type": "code",
   "execution_count": null,
   "metadata": {
    "id": "DBEDDuz02BJP"
   },
   "outputs": [],
   "source": []
  }
 ],
 "metadata": {
  "colab": {
   "provenance": [],
   "toc_visible": true
  },
  "gpuClass": "standard",
  "kernelspec": {
   "display_name": "Python 3 (ipykernel)",
   "language": "python",
   "name": "python3"
  },
  "language_info": {
   "codemirror_mode": {
    "name": "ipython",
    "version": 3
   },
   "file_extension": ".py",
   "mimetype": "text/x-python",
   "name": "python",
   "nbconvert_exporter": "python",
   "pygments_lexer": "ipython3",
   "version": "3.9.5"
  },
  "toc": {
   "base_numbering": 1,
   "nav_menu": {},
   "number_sections": true,
   "sideBar": true,
   "skip_h1_title": false,
   "title_cell": "Table of Contents",
   "title_sidebar": "Contents",
   "toc_cell": false,
   "toc_position": {},
   "toc_section_display": true,
   "toc_window_display": false
  },
  "varInspector": {
   "cols": {
    "lenName": 16,
    "lenType": 16,
    "lenVar": 40
   },
   "kernels_config": {
    "python": {
     "delete_cmd_postfix": "",
     "delete_cmd_prefix": "del ",
     "library": "var_list.py",
     "varRefreshCmd": "print(var_dic_list())"
    },
    "r": {
     "delete_cmd_postfix": ") ",
     "delete_cmd_prefix": "rm(",
     "library": "var_list.r",
     "varRefreshCmd": "cat(var_dic_list()) "
    }
   },
   "types_to_exclude": [
    "module",
    "function",
    "builtin_function_or_method",
    "instance",
    "_Feature"
   ],
   "window_display": false
  }
 },
 "nbformat": 4,
 "nbformat_minor": 1
}
